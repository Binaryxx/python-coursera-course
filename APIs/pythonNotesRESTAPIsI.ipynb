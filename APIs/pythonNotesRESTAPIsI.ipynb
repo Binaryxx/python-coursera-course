{
 "cells": [
  {
   "cell_type": "markdown",
   "metadata": {},
   "source": [
    "# Python Notes: REST APIs I \n",
    "<hr>"
   ]
  },
  {
   "cell_type": "markdown",
   "metadata": {},
   "source": [
    "### HTTP Protocol"
   ]
  },
  {
   "cell_type": "markdown",
   "metadata": {},
   "source": [
    "URL: Uniform Resource Locator  \n",
    "> Most popular way of finding resources in the web  \n",
    "\n",
    "The HTTP Protocol is a general transferring protocol of information in the web, which includes several types of REST APIs    \n",
    "> When someone browses the internet, a request is made for the website page and the REST APIs sends a response to the request  "
   ]
  },
  {
   "cell_type": "markdown",
   "metadata": {},
   "source": [
    "##### URL Parts:\n",
    "    \n",
    "* **Scheme:**  the protocol  \n",
    "> http://  \n",
    "  \n",
    "* **Internet Address / Base URL:** used to find the location  \n",
    "> www.ibm.com  \n",
    "* **Route:** location on the webn server  \n",
    "> /images/logo.png  "
   ]
  },
  {
   "cell_type": "markdown",
   "metadata": {},
   "source": [
    "<hr>"
   ]
  },
  {
   "cell_type": "markdown",
   "metadata": {},
   "source": [
    "### Request and Reponse Process"
   ]
  },
  {
   "cell_type": "markdown",
   "metadata": {},
   "source": [
    "There are http methods to make requests to a web service  \n",
    "  \n",
    "Request Messages have the following:  \n",
    "* _Request Start Line:_ Has the request method  \n",
    "* _Request Header:_ Has additional information for the request  \n",
    "* _Request Body (optional):_ \n",
    "  \n",
    "Response Messages have the following:  \n",
    "* _Response Start Line:_ Has the version start line and a descriptive phrase (status code)  \n",
    "* _Response Header:_ Has information  \n",
    "* _Response Body_: Has the requested file  "
   ]
  },
  {
   "cell_type": "markdown",
   "metadata": {},
   "source": [
    "##### Status Code Examples:  \n",
    "1XX : Informational  \n",
    "  \n",
    "> 100 : Everything So Far is OK  \n",
    "  \n",
    "2XX : Success  \n",
    "> 200 : OK  \n",
    "  \n",
    "3XX : Redirection  \n",
    "> 300 : Multiple Choices  \n",
    "  \n",
    "4XX : Client Error  \n",
    "> 401 : Unauthorized  \n",
    "> 403 : Forbidden  \n",
    "> 404 : Not Found \n",
    "   \n",
    "5XX : Server Error  \n",
    "> 501 : Not Implemented  \n",
    "  \n",
    "_The prefixes indicates the class_  "
   ]
  },
  {
   "cell_type": "markdown",
   "metadata": {},
   "source": [
    "<hr>"
   ]
  },
  {
   "cell_type": "markdown",
   "metadata": {},
   "source": [
    "##### HTTP Methods"
   ]
  },
  {
   "cell_type": "markdown",
   "metadata": {},
   "source": [
    "When a request is made, a HTTP method is sent  \n",
    "> indicates to the server what action to perform  \n",
    "\n",
    "Get: Retrives data from the server  \n",
    "Post: Submits data to server  \n",
    "Put: Updates data already on server  \n",
    "Delete: Deletes data from server  "
   ]
  }
 ],
 "metadata": {
  "kernelspec": {
   "display_name": "Python 3.10.8 64-bit (microsoft store)",
   "language": "python",
   "name": "python3"
  },
  "language_info": {
   "name": "python",
   "version": "3.10.8"
  },
  "orig_nbformat": 4,
  "vscode": {
   "interpreter": {
    "hash": "aea6fe521a8d4c902ca730e502c1a2f7b75abf53da708eec9ae2a041880e07b3"
   }
  }
 },
 "nbformat": 4,
 "nbformat_minor": 2
}
