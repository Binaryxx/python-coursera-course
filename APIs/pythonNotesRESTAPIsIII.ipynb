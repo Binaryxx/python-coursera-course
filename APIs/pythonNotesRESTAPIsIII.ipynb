{
 "cells": [
  {
   "cell_type": "markdown",
   "metadata": {},
   "source": [
    "# Python Notes: Random User and Fruitvice API\n",
    "<hr>"
   ]
  },
  {
   "cell_type": "markdown",
   "metadata": {},
   "source": [
    "* Random User Generator is an open source, free API that randomly generates users to be used as placeholders for testing purposes  \n",
    "* Fruitvice provides data for all kinds of fruit  "
   ]
  },
  {
   "cell_type": "markdown",
   "metadata": {},
   "source": [
    "**!pip install randomuser**  \n",
    "**from randomuser import RandomUser**  \n",
    "**import pandas as pd**  \n",
    "Installs and imports necessary packages and libraries  \n",
    "  \n",
    "**_myObject_ = RandomUser()**  \n",
    "creates a RandomUser object  \n",
    "  \n",
    "**_myList_ = _myObject_.generate_users(_n_)**  \n",
    "generates a list of n users with its accompanying random information  \n",
    "  \n",
    "##### Get Methods\n",
    "Returns the random user's corresponding info \n",
    "- get_cell()\n",
    "- get_city()\n",
    "- get_dob()\n",
    "- get_email()\n",
    "- get_first_name()\n",
    "- get_full_name()\n",
    "- get_gender()\n",
    "- get_id()\n",
    "- get_id_number()\n",
    "- get_id_type()\n",
    "- get_info()\n",
    "- get_last_name()\n",
    "- get_login_md5()\n",
    "- get_login_salt()\n",
    "- get_login_sha1()\n",
    "- get_login_sha256()\n",
    "- get_nat()\n",
    "- get_password()\n",
    "- get_phone()\n",
    "- get_picture()\n",
    "- get_postcode()\n",
    "- get_registered()\n",
    "- get_state()\n",
    "- get_street()\n",
    "- get_username()\n",
    "- get_zipcode()"
   ]
  },
  {
   "cell_type": "code",
   "execution_count": 3,
   "metadata": {},
   "outputs": [
    {
     "name": "stdout",
     "output_type": "stream",
     "text": [
      "Collecting randomuser\n",
      "  Downloading randomuser-1.6.tar.gz (5.0 kB)\n",
      "  Preparing metadata (setup.py): started\n",
      "  Preparing metadata (setup.py): finished with status 'done'\n",
      "Installing collected packages: randomuser\n",
      "  Running setup.py install for randomuser: started\n",
      "  Running setup.py install for randomuser: finished with status 'done'\n",
      "Successfully installed randomuser-1.6\n"
     ]
    },
    {
     "name": "stderr",
     "output_type": "stream",
     "text": [
      "  DEPRECATION: randomuser is being installed using the legacy 'setup.py install' method, because it does not have a 'pyproject.toml' and the 'wheel' package is not installed. pip 23.1 will enforce this behaviour change. A possible replacement is to enable the '--use-pep517' option. Discussion can be found at https://github.com/pypa/pip/issues/8559\n"
     ]
    }
   ],
   "source": [
    "!pip install randomuser "
   ]
  },
  {
   "cell_type": "code",
   "execution_count": 6,
   "metadata": {},
   "outputs": [],
   "source": [
    "from randomuser import RandomUser  \n",
    "import pandas as pd"
   ]
  },
  {
   "cell_type": "code",
   "execution_count": 1,
   "metadata": {},
   "outputs": [
    {
     "ename": "NameError",
     "evalue": "name 'RandomUser' is not defined",
     "output_type": "error",
     "traceback": [
      "\u001b[1;31m---------------------------------------------------------------------------\u001b[0m",
      "\u001b[1;31mNameError\u001b[0m                                 Traceback (most recent call last)",
      "Cell \u001b[1;32mIn [1], line 13\u001b[0m\n\u001b[0;32m      9\u001b[0m         users\u001b[39m.\u001b[39mappend({\u001b[39m\"\u001b[39m\u001b[39mName\u001b[39m\u001b[39m\"\u001b[39m:user\u001b[39m.\u001b[39mget_full_name(),\u001b[39m\"\u001b[39m\u001b[39mGender\u001b[39m\u001b[39m\"\u001b[39m:user\u001b[39m.\u001b[39mget_gender(),\u001b[39m\"\u001b[39m\u001b[39mCity\u001b[39m\u001b[39m\"\u001b[39m:user\u001b[39m.\u001b[39mget_city(),\u001b[39m\"\u001b[39m\u001b[39mState\u001b[39m\u001b[39m\"\u001b[39m:user\u001b[39m.\u001b[39mget_state(),\u001b[39m\"\u001b[39m\u001b[39mEmail\u001b[39m\u001b[39m\"\u001b[39m:user\u001b[39m.\u001b[39mget_email(), \u001b[39m\"\u001b[39m\u001b[39mDOB\u001b[39m\u001b[39m\"\u001b[39m:user\u001b[39m.\u001b[39mget_dob(),\u001b[39m\"\u001b[39m\u001b[39mPicture\u001b[39m\u001b[39m\"\u001b[39m:user\u001b[39m.\u001b[39mget_picture()})\n\u001b[0;32m     11\u001b[0m     \u001b[39mreturn\u001b[39;00m pd\u001b[39m.\u001b[39mDataFrame(users)     \n\u001b[1;32m---> 13\u001b[0m get_users()\n",
      "Cell \u001b[1;32mIn [1], line 8\u001b[0m, in \u001b[0;36mget_users\u001b[1;34m()\u001b[0m\n\u001b[0;32m      5\u001b[0m \u001b[39mdef\u001b[39;00m \u001b[39mget_users\u001b[39m():\n\u001b[0;32m      6\u001b[0m     users \u001b[39m=\u001b[39m[]\n\u001b[1;32m----> 8\u001b[0m     \u001b[39mfor\u001b[39;00m user \u001b[39min\u001b[39;00m RandomUser\u001b[39m.\u001b[39mgenerate_users(\u001b[39m10\u001b[39m):\n\u001b[0;32m      9\u001b[0m         users\u001b[39m.\u001b[39mappend({\u001b[39m\"\u001b[39m\u001b[39mName\u001b[39m\u001b[39m\"\u001b[39m:user\u001b[39m.\u001b[39mget_full_name(),\u001b[39m\"\u001b[39m\u001b[39mGender\u001b[39m\u001b[39m\"\u001b[39m:user\u001b[39m.\u001b[39mget_gender(),\u001b[39m\"\u001b[39m\u001b[39mCity\u001b[39m\u001b[39m\"\u001b[39m:user\u001b[39m.\u001b[39mget_city(),\u001b[39m\"\u001b[39m\u001b[39mState\u001b[39m\u001b[39m\"\u001b[39m:user\u001b[39m.\u001b[39mget_state(),\u001b[39m\"\u001b[39m\u001b[39mEmail\u001b[39m\u001b[39m\"\u001b[39m:user\u001b[39m.\u001b[39mget_email(), \u001b[39m\"\u001b[39m\u001b[39mDOB\u001b[39m\u001b[39m\"\u001b[39m:user\u001b[39m.\u001b[39mget_dob(),\u001b[39m\"\u001b[39m\u001b[39mPicture\u001b[39m\u001b[39m\"\u001b[39m:user\u001b[39m.\u001b[39mget_picture()})\n\u001b[0;32m     11\u001b[0m     \u001b[39mreturn\u001b[39;00m pd\u001b[39m.\u001b[39mDataFrame(users)\n",
      "\u001b[1;31mNameError\u001b[0m: name 'RandomUser' is not defined"
     ]
    }
   ],
   "source": [
    "# Coursera Provided Code\n",
    "\n",
    "# Generates a table with 10 users\n",
    "\n",
    "def get_users():\n",
    "    users =[]\n",
    "     \n",
    "    for user in RandomUser.generate_users(10):\n",
    "        users.append({\"Name\":user.get_full_name(),\"Gender\":user.get_gender(),\"City\":user.get_city(),\"State\":user.get_state(),\"Email\":user.get_email(), \"DOB\":user.get_dob(),\"Picture\":user.get_picture()})\n",
    "      \n",
    "    return pd.DataFrame(users)     \n",
    "\n",
    "get_users()"
   ]
  },
  {
   "cell_type": "markdown",
   "metadata": {},
   "source": [
    "<hr>  \n",
    "  \n",
    "### Using APIs in General"
   ]
  },
  {
   "cell_type": "markdown",
   "metadata": {},
   "source": [
    "**os.path.join(os.getcwd(),\"_fileName.extension_\")**  \n",
    "returns the path for _fileName.extension_  \n",
    "> <b>os.path.join(_path_,_paths*_) </b>  \n",
    ">> concatenates the _path_ and _paths\\*_  \n",
    "  \n",
    "> **os.getcwd()**  \n",
    ">> returns the location of the Current Working Directory (CWD)  \n",
    "  \n",
    "**json.loads(_myResponse_.text)**  \n",
    "returns a dictionary of the contents requested  \n",
    "> **_myResponse_.text**  \n",
    ">> converts the response to unicode  \n",
    "  \n",
    "**pd.json_normalize(_jsonFile_)**  \n",
    "flattens JSON structures; makes those in nested lists in the one level, renaming them as \"_superSetList_._subsSetList_\"  "
   ]
  },
  {
   "cell_type": "markdown",
   "metadata": {},
   "source": [
    "Will need to the following when using an API:  \n",
    "* get the GET URL as per documentation  \n",
    "* send a request with the url; including the API key as part of the header based on formatting set in the documentation  \n",
    "* select and clean the values to be presented as a dataframe to work with"
   ]
  },
  {
   "cell_type": "code",
   "execution_count": 18,
   "metadata": {},
   "outputs": [
    {
     "data": {
      "text/html": [
       "<div>\n",
       "<style scoped>\n",
       "    .dataframe tbody tr th:only-of-type {\n",
       "        vertical-align: middle;\n",
       "    }\n",
       "\n",
       "    .dataframe tbody tr th {\n",
       "        vertical-align: top;\n",
       "    }\n",
       "\n",
       "    .dataframe thead th {\n",
       "        text-align: right;\n",
       "    }\n",
       "</style>\n",
       "<table border=\"1\" class=\"dataframe\">\n",
       "  <thead>\n",
       "    <tr style=\"text-align: right;\">\n",
       "      <th></th>\n",
       "      <th>matches</th>\n",
       "      <th>playlists</th>\n",
       "      <th>metadata.startDate.value</th>\n",
       "      <th>metadata.startDate.displayValue</th>\n",
       "      <th>metadata.endDate.value</th>\n",
       "      <th>metadata.endDate.displayValue</th>\n",
       "      <th>metadata.duration.value</th>\n",
       "      <th>metadata.duration.displayValue</th>\n",
       "      <th>metadata.isActive.value</th>\n",
       "      <th>metadata.isActive.displayValue</th>\n",
       "      <th>...</th>\n",
       "      <th>stats.arenaRankScore.displayValue</th>\n",
       "      <th>stats.arenaRankScore.displayType</th>\n",
       "      <th>stats.arenaRankScoreChange.rank</th>\n",
       "      <th>stats.arenaRankScoreChange.percentile</th>\n",
       "      <th>stats.arenaRankScoreChange.displayName</th>\n",
       "      <th>stats.arenaRankScoreChange.displayCategory</th>\n",
       "      <th>stats.arenaRankScoreChange.category</th>\n",
       "      <th>stats.arenaRankScoreChange.value</th>\n",
       "      <th>stats.arenaRankScoreChange.displayValue</th>\n",
       "      <th>stats.arenaRankScoreChange.displayType</th>\n",
       "    </tr>\n",
       "  </thead>\n",
       "  <tbody>\n",
       "    <tr>\n",
       "      <th>0</th>\n",
       "      <td>[{'id': '8292c07e-9bef-4b44-a819-965213150164'...</td>\n",
       "      <td>[]</td>\n",
       "      <td>2022-11-29T05:22:36.869015Z</td>\n",
       "      <td>2022-11-29T05:22:36.8690150Z</td>\n",
       "      <td>2022-11-29T05:32:36.869015Z</td>\n",
       "      <td>2022-11-29T05:32:36.8690150Z</td>\n",
       "      <td>00:10:00</td>\n",
       "      <td>00:10:00</td>\n",
       "      <td>False</td>\n",
       "      <td>False</td>\n",
       "      <td>...</td>\n",
       "      <td>0</td>\n",
       "      <td>Number</td>\n",
       "      <td>None</td>\n",
       "      <td>None</td>\n",
       "      <td>Arena Score Change</td>\n",
       "      <td>Game</td>\n",
       "      <td>game</td>\n",
       "      <td>0</td>\n",
       "      <td>0</td>\n",
       "      <td>Number</td>\n",
       "    </tr>\n",
       "  </tbody>\n",
       "</table>\n",
       "<p>1 rows × 50 columns</p>\n",
       "</div>"
      ],
      "text/plain": [
       "                                             matches playlists  \\\n",
       "0  [{'id': '8292c07e-9bef-4b44-a819-965213150164'...        []   \n",
       "\n",
       "      metadata.startDate.value metadata.startDate.displayValue  \\\n",
       "0  2022-11-29T05:22:36.869015Z    2022-11-29T05:22:36.8690150Z   \n",
       "\n",
       "        metadata.endDate.value metadata.endDate.displayValue  \\\n",
       "0  2022-11-29T05:32:36.869015Z  2022-11-29T05:32:36.8690150Z   \n",
       "\n",
       "  metadata.duration.value metadata.duration.displayValue  \\\n",
       "0                00:10:00                       00:10:00   \n",
       "\n",
       "   metadata.isActive.value metadata.isActive.displayValue  ...  \\\n",
       "0                    False                          False  ...   \n",
       "\n",
       "  stats.arenaRankScore.displayValue stats.arenaRankScore.displayType  \\\n",
       "0                                 0                           Number   \n",
       "\n",
       "  stats.arenaRankScoreChange.rank stats.arenaRankScoreChange.percentile  \\\n",
       "0                            None                                  None   \n",
       "\n",
       "  stats.arenaRankScoreChange.displayName  \\\n",
       "0                     Arena Score Change   \n",
       "\n",
       "   stats.arenaRankScoreChange.displayCategory  \\\n",
       "0                                        Game   \n",
       "\n",
       "  stats.arenaRankScoreChange.category stats.arenaRankScoreChange.value  \\\n",
       "0                                game                                0   \n",
       "\n",
       "  stats.arenaRankScoreChange.displayValue  \\\n",
       "0                                       0   \n",
       "\n",
       "  stats.arenaRankScoreChange.displayType  \n",
       "0                                 Number  \n",
       "\n",
       "[1 rows x 50 columns]"
      ]
     },
     "metadata": {},
     "output_type": "display_data"
    }
   ],
   "source": [
    "import pandas as pd # used to create readable tables from dataframes\n",
    "import requests # used to make requests to web services\n",
    "import json # used to load json files\n",
    "import os # used for paths\n",
    "\n",
    "\n",
    "\n",
    "### Template Code for retrieving information and saving it as a file\n",
    "\n",
    "# Requesting the data and storing it in \"response\"\n",
    "url = \"https://public-api.tracker.gg/v2/apex/standard/profile/XXXXXX/XXXXXXXX/sessions\"\n",
    "response = requests.get(url, headers = {\"TRN-Api-Key\": \"XXXXXXXXXXXXXX\"})\n",
    "\n",
    "results = json.loads(response.text)\n",
    "df = pd.DataFrame(results)\n",
    "df2 = df[\"data\"][\"items\"][0]\n",
    "\n",
    "# Normalize df if necessary; where there are columns with subcolumns\n",
    "normalizedResults = pd.json_normalize(df2)\n",
    "display(normalizedResults)\n",
    "\n",
    "\n",
    "## Setting up an empty file and file path to save the data\n",
    "#path = os.path.join(os.getcwd(),'ValAccount.txt')\n",
    "\n",
    "## Saving the data received to the empty file created\n",
    "#with open(path,\"wb\") as file:\n",
    "#    file.write(response.content)"
   ]
  }
 ],
 "metadata": {
  "kernelspec": {
   "display_name": "Python 3.10.8 64-bit (microsoft store)",
   "language": "python",
   "name": "python3"
  },
  "language_info": {
   "codemirror_mode": {
    "name": "ipython",
    "version": 3
   },
   "file_extension": ".py",
   "mimetype": "text/x-python",
   "name": "python",
   "nbconvert_exporter": "python",
   "pygments_lexer": "ipython3",
   "version": "3.10.8"
  },
  "orig_nbformat": 4,
  "vscode": {
   "interpreter": {
    "hash": "aea6fe521a8d4c902ca730e502c1a2f7b75abf53da708eec9ae2a041880e07b3"
   }
  }
 },
 "nbformat": 4,
 "nbformat_minor": 2
}
