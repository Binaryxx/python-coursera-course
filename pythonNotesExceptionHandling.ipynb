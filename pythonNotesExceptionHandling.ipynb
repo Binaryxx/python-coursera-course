{
 "cells": [
  {
   "cell_type": "markdown",
   "metadata": {},
   "source": [
    "# Python Notes: Exception Handling\n",
    "<hr>"
   ]
  },
  {
   "cell_type": "markdown",
   "metadata": {},
   "source": [
    "***try:**  \n",
    "---- **_block of code to try to check if there's an error_**  \n",
    "**except _optional error type parameter to reference for what kind of error the below block should run in_:**  \n",
    "---- **_block of code to run if an error is encountered_**  \n",
    "**else:**  \n",
    "---- **_block of code to run after try runs successfully_**  \n",
    "**finally:**  \n",
    "---- **_block of code to run regardless of success or failure of try statement_**  \n",
    "  \n",
    "> an except block statement after an except statement with a specified error to catch will catch all other errors  \n",
    ">> best practice for debugging to not overrely on the catch all except statement version  "
   ]
  },
  {
   "cell_type": "markdown",
   "metadata": {},
   "source": [
    "#### Types of Errors:"
   ]
  },
  {
   "cell_type": "markdown",
   "metadata": {},
   "source": [
    "**ZeroDivisionError**  \n",
    "> occurs when dividing by zero  \n",
    "  \n",
    "**NameError**  \n",
    "> occurs when using undefined variables  \n",
    "  \n",
    "**IndexError**  \n",
    "> occurs when accessing an index that doesn't exist in a collection \n",
    "   \n",
    "**EOFError**  \n",
    "> occurs when the input() reaches an end of file condition without reading any data  \n",
    "  \n",
    "**ImportError**  \n",
    "> occurs when there is trouble loading a module  \n",
    "  \n",
    "**KeyError**  \n",
    "> occurs when a dictionary key that doesn't exist is accessed  \n",
    "  \n",
    "**TypeError**  \n",
    "> occurs when an inappropriate data type is used by an operation or function  \n",
    "  \n",
    "**IOError**  \n",
    "> occurs when the open() statement fails to open a fail or a failure with the print() function\n",
    "  "
   ]
  },
  {
   "cell_type": "code",
   "execution_count": 4,
   "metadata": {},
   "outputs": [
    {
     "name": "stdout",
     "output_type": "stream",
     "text": [
      "Cannot divide by zero\n",
      "Function is done\n",
      "3.0\n",
      "Function is done\n"
     ]
    }
   ],
   "source": [
    "def divIncFunc(a,b):\n",
    "    '''\n",
    "    Divide a by b and then add 1 to the quotient\n",
    "    '''\n",
    "    try:\n",
    "        c = a / b\n",
    "    except ZeroDivisionError:\n",
    "        print(\"Cannot divide by zero\")\n",
    "    else:\n",
    "        print(c+1)\n",
    "    finally:\n",
    "        print(\"Function is done\")\n",
    "\n",
    "divIncFunc(4,0) #Will fail\n",
    "divIncFunc(4,2) # Will succeed"
   ]
  }
 ],
 "metadata": {
  "kernelspec": {
   "display_name": "Python 3.11.0 64-bit",
   "language": "python",
   "name": "python3"
  },
  "language_info": {
   "codemirror_mode": {
    "name": "ipython",
    "version": 3
   },
   "file_extension": ".py",
   "mimetype": "text/x-python",
   "name": "python",
   "nbconvert_exporter": "python",
   "pygments_lexer": "ipython3",
   "version": "3.11.0"
  },
  "orig_nbformat": 4,
  "vscode": {
   "interpreter": {
    "hash": "1c840a969b159f73f4b9e73e40c60a0fd7d0b9ac506a50c2c7e455b8c693fb36"
   }
  }
 },
 "nbformat": 4,
 "nbformat_minor": 2
}
