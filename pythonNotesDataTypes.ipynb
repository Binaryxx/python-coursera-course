{
 "cells": [
  {
   "cell_type": "markdown",
   "metadata": {},
   "source": [
    "# Python Notes: Data Types\n",
    "<hr>"
   ]
  },
  {
   "cell_type": "markdown",
   "metadata": {},
   "source": [
    "### Data Types"
   ]
  },
  {
   "cell_type": "markdown",
   "metadata": {},
   "source": [
    "**type()** returns the data type of the object"
   ]
  },
  {
   "cell_type": "code",
   "execution_count": 9,
   "metadata": {},
   "outputs": [
    {
     "name": "stdout",
     "output_type": "stream",
     "text": [
      "<class 'str'>\n",
      "<class 'int'>\n",
      "<class 'float'>\n",
      "<class 'bool'>\n"
     ]
    }
   ],
   "source": [
    "print(   type(\"Hello\")   )\n",
    "print(   type(1)   )\n",
    "print(   type(1.0)   )\n",
    "print(   type(True)   )"
   ]
  },
  {
   "cell_type": "markdown",
   "metadata": {},
   "source": [
    "#### Type Casting:\n",
    "Convert one data type to another"
   ]
  },
  {
   "cell_type": "code",
   "execution_count": 10,
   "metadata": {},
   "outputs": [
    {
     "name": "stdout",
     "output_type": "stream",
     "text": [
      "Everything below is a str type\n",
      "<class 'str'>\n",
      "<class 'str'>\n",
      "<class 'str'>\n",
      "Everything below is an int type\n",
      "<class 'int'>\n",
      "<class 'int'>\n",
      "<class 'int'>\n",
      "Everything below is a float type\n",
      "<class 'float'>\n",
      "Everything below is a bool type\n",
      "<class 'bool'>\n",
      "<class 'bool'>\n"
     ]
    }
   ],
   "source": [
    "print(\"Everything below is a str type\")\n",
    "print(type(   str(1)   ))\n",
    "print(type(   str(True)   ))\n",
    "print(type(   str(1.0)   ))\n",
    "\n",
    "\n",
    "print(\"Everything below is an int type\")\n",
    "print(type(   int(\"1\")   ))\n",
    "print(type(   int(1.0)   ))\n",
    "print(type(   int(False)   ))\n",
    "\n",
    "print(\"Everything below is a float type\")\n",
    "print(type(   float(1)   ))\n",
    "\n",
    "print(\"Everything below is a bool type\")\n",
    "print(type(   bool(1)   ))\n",
    "print(type(   bool(\"True\")   ))"
   ]
  },
  {
   "cell_type": "markdown",
   "metadata": {},
   "source": [
    "<hr>"
   ]
  },
  {
   "cell_type": "markdown",
   "metadata": {},
   "source": [
    "### Misc"
   ]
  },
  {
   "cell_type": "markdown",
   "metadata": {},
   "source": [
    "#### Prints the Python version"
   ]
  },
  {
   "cell_type": "code",
   "execution_count": 11,
   "metadata": {},
   "outputs": [
    {
     "name": "stdout",
     "output_type": "stream",
     "text": [
      "3.11.0 (main, Oct 24 2022, 18:26:48) [MSC v.1933 64 bit (AMD64)]\n"
     ]
    }
   ],
   "source": [
    "import sys\n",
    "print(sys.version)"
   ]
  },
  {
   "cell_type": "markdown",
   "metadata": {},
   "source": [
    "##### Operators:  \n",
    "// : floor division  \n",
    "____ divides and rounds down  \n",
    "________ performs division and then uses floor() function on the result  \n",
    "____________ can return a float if one of the operands is a float\n",
    "    \n",
    "____ can also be used to do ceiling  \n",
    "________ -(-x/y)\n",
    "\n",
    "% : modulus\n",
    "____ returns the remainder\n",
    "\n",
    "\n",
    "<i> Sidenote:</i>  \n",
    "Division always returns a float  \n",
    "____ Use floor division with two integers to return an integer  \n",
    "________ ??? Not sure why division returns a float when two integers are used\n",
    "Addition/Subtraction/Multiplication returns a float when there's at least one float in the expression"
   ]
  },
  {
   "cell_type": "code",
   "execution_count": 12,
   "metadata": {},
   "outputs": [
    {
     "name": "stdout",
     "output_type": "stream",
     "text": [
      "Operators Example:\n",
      "3.5\n",
      "3\n",
      "4\n",
      "1\n",
      "Float Return Example:\n",
      "<class 'float'>\n",
      "<class 'float'>\n",
      "<class 'float'>\n",
      "<class 'float'>\n"
     ]
    }
   ],
   "source": [
    "print(\"Operators Example:\")\n",
    "print (7/2)\n",
    "print(7//2)\n",
    "print( -(-7//2))\n",
    "print(7%2)\n",
    "    # Equal to 6/2 and 1/2; Returns the 1\n",
    "\n",
    "print(\"Float Return Example:\")\n",
    "print( type(6/2) )\n",
    "print(   type(1+1.0)   )\n",
    "print(   type(2-1.0)   )\n",
    "print(   type(1*1.0)   )"
   ]
  }
 ],
 "metadata": {
  "kernelspec": {
   "display_name": "Python 3.11.0 64-bit",
   "language": "python",
   "name": "python3"
  },
  "language_info": {
   "codemirror_mode": {
    "name": "ipython",
    "version": 3
   },
   "file_extension": ".py",
   "mimetype": "text/x-python",
   "name": "python",
   "nbconvert_exporter": "python",
   "pygments_lexer": "ipython3",
   "version": "3.11.0"
  },
  "orig_nbformat": 4,
  "vscode": {
   "interpreter": {
    "hash": "1c840a969b159f73f4b9e73e40c60a0fd7d0b9ac506a50c2c7e455b8c693fb36"
   }
  }
 },
 "nbformat": 4,
 "nbformat_minor": 2
}
