{
 "cells": [
  {
   "cell_type": "markdown",
   "metadata": {},
   "source": [
    "# Python Notes: Open() Function  \n",
    "<hr>"
   ]
  },
  {
   "cell_type": "markdown",
   "metadata": {},
   "source": [
    "**_myFileObject_ = open(\"_file directory / file name_\", \"_mode_\")**  \n",
    "> mode determines what access will be available when opening the file  \n",
    ">> * r : read  \n",
    ">> * w : write  \n",
    ">> * a : append  \n",
    ">> * x : create  \n",
    ">>> can also specify whether to handle the file as binary or text mode  \n",
    "> to open a file for just reading, just the file path is enough\n",
    "  \n",
    "**_myFileObject_.name**  \n",
    "returns a string with the name of the file  \n",
    "  \n",
    "**_myFileObject_.mode**  \n",
    "returns a string with the mode of the file  \n",
    "\n",
    "**_myFileObject_.close()**  \n",
    "to manually close the file  \n",
    "\n",
    "**_myFileObject_.closed**  \n",
    "returns whether the file is closed  \n",
    "  \n",
    "**with open(_file path_, _\"mode\"_) as _myFileObject_:**  \n",
    "---- **_code to run relating to opened file_**  \n",
    "This code is better practice since it automatically closes the file  \n",
    "  \n",
    "**_myVar_ = _myFileObject_.read()**  \n",
    "returns value of the file as a string  \n",
    "> an optional argument can be inputted to indicate the number of characters to read, reading up to the nth character  \n",
    ">> when ran any additional times, the program will read the following n lines  \n",
    "  \n",
    "* Cannot read a file when it is closed, but can print the file contents if saved to a variable while open \n",
    "  \n",
    "**_myVar_ = _myFileObject.readlines()_**  \n",
    "returns a list which has each line as an element including the \"\\n\" at the end  \n",
    "> the second time the code is ran, it reads the second line of the file  \n",
    "  \n",
    "**_myVar_ = _myFileObject.readline()_**  \n",
    "returns the first line of the file  \n",
    "> reads the actual lines and not just the ones with content  \n"
   ]
  },
  {
   "cell_type": "code",
   "execution_count": 7,
   "metadata": {},
   "outputs": [
    {
     "name": "stdout",
     "output_type": "stream",
     "text": [
      "C:\\Users\\Binaryxx Sune\\Documents\\Programming\\Intermediate3\\test.txt\n",
      "r\n"
     ]
    },
    {
     "data": {
      "text/plain": [
       "True"
      ]
     },
     "execution_count": 7,
     "metadata": {},
     "output_type": "execute_result"
    }
   ],
   "source": [
    "myFile = open(\"C:\\\\Users\\Binaryxx\\Documents\\Programming\\Intermediate3\\\\test.txt\", \"r\")\n",
    "\n",
    "print(myFile.name)\n",
    "print(myFile.mode)\n",
    "\n",
    "myFile.close()\n",
    "myFile.closed"
   ]
  },
  {
   "cell_type": "code",
   "execution_count": 8,
   "metadata": {},
   "outputs": [
    {
     "name": "stdout",
     "output_type": "stream",
     "text": [
      "This is a test text file to practice opening files in Python.\n",
      "\n",
      "This is technically the third line of the text since I skipped a line.\n",
      "This is the 4th line technically, but really the 3rd line of content.\n"
     ]
    }
   ],
   "source": [
    "with open(\"C:\\\\Users\\Binaryxx\\Documents\\Programming\\Intermediate3\\\\test.txt\") as myTestFile:\n",
    "    myText = myTestFile.read()\n",
    "    print(myText)"
   ]
  },
  {
   "cell_type": "code",
   "execution_count": 12,
   "metadata": {},
   "outputs": [
    {
     "name": "stdout",
     "output_type": "stream",
     "text": [
      "['This is a test text file to practice opening files in Python.\\n', '\\n', 'This is technically the third line of the text since I skipped a line.\\n', 'This is the 4th line technically, but really the 3rd line of content.']\n"
     ]
    }
   ],
   "source": [
    "with open(\"C:\\\\Users\\Binaryxx\\Documents\\Programming\\Intermediate3\\\\test.txt\") as myTestFile:\n",
    "    myText = myTestFile.readlines()\n",
    "print(myText)"
   ]
  },
  {
   "cell_type": "code",
   "execution_count": 42,
   "metadata": {},
   "outputs": [
    {
     "name": "stdout",
     "output_type": "stream",
     "text": [
      "This is a test text file to practice opening files in Python.\n",
      " \n",
      " This is technically the third line of the text since I skipped a line.\n",
      "\n"
     ]
    }
   ],
   "source": [
    "with open(\"C:\\\\Users\\Binaryxx\\Documents\\Programming\\Intermediate3\\\\test.txt\") as myTestFile:\n",
    "    myText = myTestFile.readline()\n",
    "    myText2 = myTestFile.readline()\n",
    "    myText3 = myTestFile.readline()\n",
    "print(myText, myText2, myText3)\n",
    "\n",
    "# reads one line, and then another, and then another"
   ]
  },
  {
   "cell_type": "code",
   "execution_count": 41,
   "metadata": {},
   "outputs": [
    {
     "name": "stdout",
     "output_type": "stream",
     "text": [
      "This  is a test \n"
     ]
    }
   ],
   "source": [
    "with open(\"C:\\\\Users\\Binaryxx\\Documents\\Programming\\Intermediate3\\\\test.txt\") as myTestFile:\n",
    "    myText = myTestFile.read(4)\n",
    "    myText2 = myTestFile.read(11)\n",
    "print(myText, myText2)\n",
    "\n",
    "# reads the first 4 characters, and then the next 11 characters"
   ]
  }
 ],
 "metadata": {
  "kernelspec": {
   "display_name": "Python 3.11.0 64-bit",
   "language": "python",
   "name": "python3"
  },
  "language_info": {
   "codemirror_mode": {
    "name": "ipython",
    "version": 3
   },
   "file_extension": ".py",
   "mimetype": "text/x-python",
   "name": "python",
   "nbconvert_exporter": "python",
   "pygments_lexer": "ipython3",
   "version": "3.11.0"
  },
  "orig_nbformat": 4,
  "vscode": {
   "interpreter": {
    "hash": "1c840a969b159f73f4b9e73e40c60a0fd7d0b9ac506a50c2c7e455b8c693fb36"
   }
  }
 },
 "nbformat": 4,
 "nbformat_minor": 2
}
