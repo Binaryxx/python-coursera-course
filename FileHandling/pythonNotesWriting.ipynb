{
 "cells": [
  {
   "cell_type": "markdown",
   "metadata": {},
   "source": [
    "# Python Notes: Writing\n",
    "<hr>"
   ]
  },
  {
   "cell_type": "markdown",
   "metadata": {},
   "source": [
    "### Write"
   ]
  },
  {
   "cell_type": "markdown",
   "metadata": {},
   "source": [
    "**_myFile_.write(\"_line to write_\")**  \n",
    "writes the following in a line in the txt file  \n",
    "> make sure to add **\"\\n\"** at the end to create a new line after the method, especially when writing multiple lines in succession  \n",
    ">> each cell overwrites what the other cells wrote, use append to add unto the existing lines"
   ]
  },
  {
   "cell_type": "code",
   "execution_count": 4,
   "metadata": {},
   "outputs": [],
   "source": [
    "with open(\"C:\\\\Users\\Binaryxx\\Documents\\Programming\\Intermediate3\\\\test2.txt\", \"w\") as myFile:\n",
    "    myFile.write(\"This is line 1 \\n\")\n",
    "    myFile.write(\"This is line 2 \\n\")"
   ]
  },
  {
   "cell_type": "code",
   "execution_count": 2,
   "metadata": {},
   "outputs": [],
   "source": [
    "lineList = [\"This is line a \\n\", \"This is line b \\n\"]\n",
    "\n",
    "with open(\"C:\\\\Users\\Binaryxx\\Documents\\Programming\\Intermediate3\\\\test2.txt\", \"w\") as myFile:\n",
    "    for i in lineList:\n",
    "        myFile.write(i)"
   ]
  },
  {
   "cell_type": "code",
   "execution_count": 3,
   "metadata": {},
   "outputs": [],
   "source": [
    "with open(\"C:\\\\Users\\Binaryxx\\Documents\\Programming\\Intermediate3\\\\test2.txt\", \"w\") as myFile:\n",
    "    myFile.write(\"This is line 1\")\n",
    "    myFile.write(\"This is line 2\")\n",
    "\n",
    "# writes both in one line, and one right after the other with no space in between"
   ]
  },
  {
   "cell_type": "markdown",
   "metadata": {},
   "source": [
    "<hr>"
   ]
  },
  {
   "cell_type": "markdown",
   "metadata": {},
   "source": [
    "### Append"
   ]
  },
  {
   "cell_type": "markdown",
   "metadata": {},
   "source": [
    "Similar syntax to write, but with a different mode when using the open() function  "
   ]
  },
  {
   "cell_type": "code",
   "execution_count": 6,
   "metadata": {},
   "outputs": [],
   "source": [
    "with open(\"C:\\\\Users\\Binaryxx\\Documents\\Programming\\Intermediate3\\\\test2.txt\", \"a\") as myFile:\n",
    "    myFile.write(\"This is line 3 \\n\")\n",
    "    myFile.write(\"This is line 4 \\n\")"
   ]
  },
  {
   "cell_type": "markdown",
   "metadata": {},
   "source": [
    "##### Copying a file's content to another file"
   ]
  },
  {
   "cell_type": "code",
   "execution_count": 7,
   "metadata": {},
   "outputs": [],
   "source": [
    "# opens test2.txt as a read since it will be copied and not modified\n",
    "with open(\"C:\\\\Users\\Binaryxx\\Documents\\Programming\\Intermediate3\\\\test2.txt\", \"r\") as myFile2:\n",
    "\n",
    "    # opens test.txt as a write since the fileObject opened in read will be \"copied\" over to the test1 file, effectively creating a duplicate; use append to add on top off\n",
    "    with open(\"C:\\\\Users\\Binaryxx\\Documents\\Programming\\Intermediate3\\\\test.txt\", \"w\") as myFile:\n",
    "        \n",
    "        for i in myFile2:\n",
    "            myFile.write(i)\n"
   ]
  }
 ],
 "metadata": {
  "kernelspec": {
   "display_name": "Python 3.10.8 64-bit (microsoft store)",
   "language": "python",
   "name": "python3"
  },
  "language_info": {
   "codemirror_mode": {
    "name": "ipython",
    "version": 3
   },
   "file_extension": ".py",
   "mimetype": "text/x-python",
   "name": "python",
   "nbconvert_exporter": "python",
   "pygments_lexer": "ipython3",
   "version": "3.10.8"
  },
  "orig_nbformat": 4,
  "vscode": {
   "interpreter": {
    "hash": "aea6fe521a8d4c902ca730e502c1a2f7b75abf53da708eec9ae2a041880e07b3"
   }
  }
 },
 "nbformat": 4,
 "nbformat_minor": 2
}
