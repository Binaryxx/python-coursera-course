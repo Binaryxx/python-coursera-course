{
 "cells": [
  {
   "cell_type": "markdown",
   "metadata": {},
   "source": [
    "# Python Notes: Side Note"
   ]
  },
  {
   "cell_type": "markdown",
   "metadata": {},
   "source": [
    "Can print out a combination of different data types in one print function using **,**\n",
    "> the comma acts as \"AND\" in a sense of \"also do this\" rather than a comparison; prints it in one line\n",
    ">> better alternative to converting the data type to str to print out the statement\n",
    ">>> the comma also acts as a space already"
   ]
  },
  {
   "cell_type": "code",
   "execution_count": 1,
   "metadata": {},
   "outputs": [
    {
     "name": "stdout",
     "output_type": "stream",
     "text": [
      "I am the 1\n",
      "I am the best\n",
      "I am the ['best', 'that', 'ever', 'was']\n"
     ]
    }
   ],
   "source": [
    "myInt = 1\n",
    "myStr = \"best\"\n",
    "myList = [\"best\", \"that\", \"ever\", \"was\"]\n",
    "\n",
    "print(\"I am the\", myInt)\n",
    "print(\"I am the\", myStr)\n",
    "print(\"I am the\", myList)"
   ]
  },
  {
   "cell_type": "markdown",
   "metadata": {},
   "source": [
    "* Can apply the replace() method on the same line and on the same var multiple times at once  \n",
    "> Not sure what other methods can do this, but it's not all of them\n",
    ">> !!! Check what other methods do this and why"
   ]
  },
  {
   "cell_type": "code",
   "execution_count": 6,
   "metadata": {},
   "outputs": [
    {
     "name": "stdout",
     "output_type": "stream",
     "text": [
      "Test is a test Test\n"
     ]
    }
   ],
   "source": [
    "myVar = \"This is a test string\"\n",
    "newVar = myVar.replace(\"string\",\"Test\").replace(\"This\", \"Test\")\n",
    "print(newVar)\n",
    "\n",
    "# myList = [\"Test\", \"Test\"]\n",
    "# myList.append(1).append(2)"
   ]
  },
  {
   "cell_type": "markdown",
   "metadata": {},
   "source": [
    "<hr>"
   ]
  },
  {
   "cell_type": "markdown",
   "metadata": {},
   "source": [
    "#### Naming Conventions"
   ]
  },
  {
   "cell_type": "markdown",
   "metadata": {},
   "source": [
    "Work with what has already been established; if starting anew, use the following:\n",
    "\n",
    "Classes: CapitalizeTheStartOfEachWord  \n",
    "> Exceptions are also considered as classes so it follows this convention  \n",
    "  \n",
    "* Functions: lowercase_with_underscores  \n",
    "* Methods: lowercase_with_underscores  \n",
    "* Variables: lowercase_with_underscores  \n"
   ]
  },
  {
   "cell_type": "markdown",
   "metadata": {},
   "source": [
    "<hr>\n",
    "  \n",
    "### Adding executables and files to the PATH  "
   ]
  },
  {
   "cell_type": "markdown",
   "metadata": {},
   "source": [
    "Below is the generalized steps to add a file to the PATH whenever a warning appears prompting that files be included in the PATH so that it can be used:  \n",
    "1. File > Preferences > Settings > Open Settings (JSON)\n",
    "2.  Paste the following code; changing the URL of the code to the corresponding path  \n",
    "{  \n",
    "    ---- \"terminal.integrated.env.windows\": {  \n",
    "    -------- \"PATH\": \"_URL Path_;${env:PATH}\"  \n",
    "    ---- }  \n",
    "}  \n",
    "> the format is for windows"
   ]
  },
  {
   "cell_type": "markdown",
   "metadata": {},
   "source": [
    "<hr>"
   ]
  },
  {
   "cell_type": "markdown",
   "metadata": {},
   "source": [
    "<hr>"
   ]
  },
  {
   "cell_type": "markdown",
   "metadata": {},
   "source": [
    "When using write(), use \"wb\" mode when writing non text files and \"w\" when writing text files"
   ]
  },
  {
   "cell_type": "markdown",
   "metadata": {},
   "source": [
    "<hr>  \n",
    "  \n",
    "# Questions"
   ]
  },
  {
   "cell_type": "markdown",
   "metadata": {},
   "source": [
    "Why are some methods' arguments entered through square brackets while some are in parenthesis?  \n",
    "> !!! Are the ones with the brackets not really a method and something else?  \n",
    ">> Searching the internet only leads to answers relating to containers (lists vs tuples)\n"
   ]
  }
 ],
 "metadata": {
  "kernelspec": {
   "display_name": "Python 3.10.8 64-bit (microsoft store)",
   "language": "python",
   "name": "python3"
  },
  "language_info": {
   "codemirror_mode": {
    "name": "ipython",
    "version": 3
   },
   "file_extension": ".py",
   "mimetype": "text/x-python",
   "name": "python",
   "nbconvert_exporter": "python",
   "pygments_lexer": "ipython3",
   "version": "3.10.8"
  },
  "orig_nbformat": 4,
  "vscode": {
   "interpreter": {
    "hash": "aea6fe521a8d4c902ca730e502c1a2f7b75abf53da708eec9ae2a041880e07b3"
   }
  }
 },
 "nbformat": 4,
 "nbformat_minor": 2
}
