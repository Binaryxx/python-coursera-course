{
 "cells": [
  {
   "cell_type": "markdown",
   "metadata": {},
   "source": [
    "# Python Notes: Strings\n",
    "<hr>"
   ]
  },
  {
   "cell_type": "markdown",
   "metadata": {},
   "source": [
    "### Strings"
   ]
  },
  {
   "cell_type": "markdown",
   "metadata": {},
   "source": [
    "Strings act similar to an ordered sequence, with each character acting as an item in an array"
   ]
  },
  {
   "cell_type": "code",
   "execution_count": 1,
   "metadata": {},
   "outputs": [
    {
     "name": "stdout",
     "output_type": "stream",
     "text": [
      "apple\n",
      "carrot\n",
      "B\n",
      "x\n"
     ]
    }
   ],
   "source": [
    "myList = [\"apple\", \"banana\", \"carrot\"]\n",
    "print(   myList[0])\n",
    "print(   myList[-1])\n",
    "\n",
    "myName = \"Binaryxx\"\n",
    "print (   myName[0]   )\n",
    "print (   myName[-1]   )"
   ]
  },
  {
   "cell_type": "markdown",
   "metadata": {},
   "source": [
    "<hr>"
   ]
  },
  {
   "cell_type": "markdown",
   "metadata": {},
   "source": [
    "#### String Operations  \n",
    "##### String Slicing  \n",
    "__array[__ *starting index to include in the slice* __:__ *index of first item to not include in slice* __:__ *steps in slicing* __]__"
   ]
  },
  {
   "cell_type": "code",
   "execution_count": 2,
   "metadata": {},
   "outputs": [
    {
     "name": "stdout",
     "output_type": "stream",
     "text": [
      "Bina\n"
     ]
    }
   ],
   "source": [
    "print(   myName[0:4])"
   ]
  },
  {
   "cell_type": "markdown",
   "metadata": {},
   "source": [
    "##### Concatenating, Replicate Strings"
   ]
  },
  {
   "cell_type": "code",
   "execution_count": 3,
   "metadata": {},
   "outputs": [
    {
     "name": "stdout",
     "output_type": "stream",
     "text": [
      "Binaryxx\n",
      "BinaryxxBinaryxxBinaryxx\n",
      "My name is Binaryxx\n"
     ]
    }
   ],
   "source": [
    "print(myName)\n",
    "print(myName*3)\n",
    "print(\"My name is \" + myName)"
   ]
  },
  {
   "cell_type": "markdown",
   "metadata": {},
   "source": [
    "##### Escape Sequences"
   ]
  },
  {
   "cell_type": "markdown",
   "metadata": {},
   "source": [
    "**\\t** indents/\"tabs\" the line for the string  \n",
    "**\\n** creates a new line for the string  \n",
    "**_double backslash_** to print one backslash  \n",
    "**r\"\"** in front of a string to copy everything explicitly"
   ]
  },
  {
   "cell_type": "code",
   "execution_count": 4,
   "metadata": {},
   "outputs": [
    {
     "name": "stdout",
     "output_type": "stream",
     "text": [
      "My name is Binaryxx\n",
      "My name is: \n",
      " Binaryxx\n",
      "My name is: \t Binaryxx\n",
      "My name is: \\t Binaryxx\n",
      "My name is \\Binaryxx\n"
     ]
    }
   ],
   "source": [
    "print(\"My name is Binaryxx\")\n",
    "print(\"My name is: \\n Binaryxx\")\n",
    "print(\"My name is: \\t Binaryxx\")\n",
    "print(r\"My name is: \\t Binaryxx\")\n",
    "print(\"My name is \\\\Binaryxx\")\n"
   ]
  },
  {
   "cell_type": "markdown",
   "metadata": {},
   "source": [
    "<hr>"
   ]
  },
  {
   "cell_type": "markdown",
   "metadata": {},
   "source": [
    "### Methods"
   ]
  },
  {
   "cell_type": "markdown",
   "metadata": {},
   "source": [
    "**_stringVar_.upper()**  \n",
    "____ makes everything uppercase  \n",
    "**_stringVar_.lower()**  \n",
    "____ makes everything lowercase  \n",
    "**_newStringVariable_ = _stringName_.replace( _string word to replace_ , _string word to replace with_ )**  \n",
    "____ creates a new variable with a word string replaced with a new value; can't change the string variable itself so it has to be reassigned if the output needs to be stored  \n",
    "**_stringVar_.find(_string value to find_)**  \n",
    "____ finds the index of the first character in the value to search for; returns index of first character in string search; returns -1 if values not in string"
   ]
  },
  {
   "cell_type": "code",
   "execution_count": 5,
   "metadata": {},
   "outputs": [
    {
     "name": "stdout",
     "output_type": "stream",
     "text": [
      "HELLO, MY NAME IS BINARYXX\n",
      "hello, my name is binaryxx\n",
      "Hello, my name is Binx\n",
      "18\n",
      "-1\n"
     ]
    }
   ],
   "source": [
    "introName = \"Hello, my name is Binaryxx\"\n",
    "print(   introName.upper()   )\n",
    "print(   introName.lower()   )\n",
    "\n",
    "introNickname = introName.replace(\"Binaryxx\",\"Binx\")\n",
    "print(   introNickname   )\n",
    "print(   introName.find(\"Binaryxx\")   )\n",
    "print(   introName.find(\"Binx\")   )"
   ]
  },
  {
   "cell_type": "markdown",
   "metadata": {},
   "source": [
    "<hr>\n"
   ]
  },
  {
   "cell_type": "markdown",
   "metadata": {},
   "source": [
    "### Misc"
   ]
  },
  {
   "cell_type": "markdown",
   "metadata": {},
   "source": [
    "*Strings are immutable; can't change it's value; can reassign the string to replace*"
   ]
  },
  {
   "cell_type": "markdown",
   "metadata": {},
   "source": [
    "__len()__ to get the number of items in a container"
   ]
  },
  {
   "cell_type": "code",
   "execution_count": 6,
   "metadata": {},
   "outputs": [
    {
     "name": "stdout",
     "output_type": "stream",
     "text": [
      "['apple', 'banana', 'carrot']\n",
      "3\n",
      "Binaryxx\n",
      "8\n"
     ]
    }
   ],
   "source": [
    "print(myList)\n",
    "print(   len(myList))\n",
    "\n",
    "print(myName)\n",
    "print(   len(myName))"
   ]
  }
 ],
 "metadata": {
  "kernelspec": {
   "display_name": "Python 3.11.0 64-bit",
   "language": "python",
   "name": "python3"
  },
  "language_info": {
   "codemirror_mode": {
    "name": "ipython",
    "version": 3
   },
   "file_extension": ".py",
   "mimetype": "text/x-python",
   "name": "python",
   "nbconvert_exporter": "python",
   "pygments_lexer": "ipython3",
   "version": "3.11.0"
  },
  "orig_nbformat": 4,
  "vscode": {
   "interpreter": {
    "hash": "1c840a969b159f73f4b9e73e40c60a0fd7d0b9ac506a50c2c7e455b8c693fb36"
   }
  }
 },
 "nbformat": 4,
 "nbformat_minor": 2
}
