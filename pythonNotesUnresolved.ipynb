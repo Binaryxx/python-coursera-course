{
 "cells": [
  {
   "cell_type": "markdown",
   "metadata": {},
   "source": [
    "# Python Notes: Unresolved Comments\n",
    "<hr>"
   ]
  },
  {
   "cell_type": "markdown",
   "metadata": {},
   "source": [
    "All notes to self has a \"!!!\" for easy search in the notebook; resolved in the cell itself with the answer bolded and italicized  \n",
    "  \n",
    "pythonNotesSideNotes.ipynb > cell 6  \n",
    "pythonNotesLoops.ipynb > cell 42  \n",
    "pythonNotesSideNotes.ipynb > cell 1 under \"Questions\" \n",
    "pythonNotesWebscraping > above cell 28; under \"Scraping the Web\" \n",
    "pythonNotesFileFormats > has a comment with !!! for code that I do not have familiarity with"
   ]
  }
 ],
 "metadata": {
  "kernelspec": {
   "display_name": "Python 3.10.8 64-bit (microsoft store)",
   "language": "python",
   "name": "python3"
  },
  "language_info": {
   "name": "python",
   "version": "3.10.8"
  },
  "orig_nbformat": 4,
  "vscode": {
   "interpreter": {
    "hash": "aea6fe521a8d4c902ca730e502c1a2f7b75abf53da708eec9ae2a041880e07b3"
   }
  }
 },
 "nbformat": 4,
 "nbformat_minor": 2
}
