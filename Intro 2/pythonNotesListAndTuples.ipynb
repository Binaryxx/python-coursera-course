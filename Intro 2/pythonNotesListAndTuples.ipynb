{
 "cells": [
  {
   "cell_type": "markdown",
   "metadata": {},
   "source": [
    "# Python Notes: List and Tuples\n",
    "<hr>"
   ]
  },
  {
   "cell_type": "markdown",
   "metadata": {},
   "source": [
    "### Tuples"
   ]
  },
  {
   "cell_type": "markdown",
   "metadata": {},
   "source": [
    "**_myTuple_ = ()**  \n",
    "____ Tuple: Ordered, Immutable Sequence  \n",
    "________ Immutable makes it so that it has to be reassigned to a different variable if a different modified tuple is wanted\n",
    "  \n",
    "**_myTuple_[n]**  \n",
    "____ able to select an item in a tuple though index selection  \n",
    "  \n",
    "**_tuple2_ = _tuple1_ + (_value1_,_value2_)**  \n",
    "____ can concatenate tuples with other tuples together  \n",
    "  \n",
    "**_myTuple_[_starting index of slice_ : _index of first item not in slice_ : _what order/multiple to select items_]**  \n",
    "____ can slice tuples  \n",
    "  \n",
    "**sorted(_myTuple_)**  \n",
    "____ returns a sorted tuple  \n",
    "________ needs to be reassigned since Tuples are immutable  \n",
    "  \n",
    "**_myTuple_.index(_value to check to find the index of_)**  \n",
    "____ Returns the index of an item of a specified value  \n",
    "________ Returns the first instance in a situation with duplicates  "
   ]
  },
  {
   "cell_type": "code",
   "execution_count": 74,
   "metadata": {},
   "outputs": [
    {
     "name": "stdout",
     "output_type": "stream",
     "text": [
      "(1, 2, 3, 4, 5, 8, 7, 6)\n",
      "(2, 3)\n",
      "[1, 2, 3, 4, 5, 6, 7, 8]\n"
     ]
    }
   ],
   "source": [
    "myTuple = (1,2,3,4,5)\n",
    "tuple2 = (8, 7, 6)\n",
    "tuple3 = myTuple + tuple2\n",
    "\n",
    "print(   myTuple+tuple2   )\n",
    "print(   myTuple[1:3]   )\n",
    "\n",
    "sortedTuple = sorted(tuple3)\n",
    "print(sortedTuple)"
   ]
  },
  {
   "cell_type": "markdown",
   "metadata": {},
   "source": [
    "##### Nested Tuple\n",
    "\n"
   ]
  },
  {
   "cell_type": "markdown",
   "metadata": {},
   "source": [
    "Add parenthesis and a comma after the element to nest tuples in one tuple  \n",
    "Use multiple square brackets to access nested tuples"
   ]
  },
  {
   "cell_type": "code",
   "execution_count": 75,
   "metadata": {},
   "outputs": [
    {
     "name": "stdout",
     "output_type": "stream",
     "text": [
      "(1, 2, 3, 'apple', 'banana', 'cat', True, False)\n",
      "((1, 2, 3), ('apple', 'banana', 'cat'), (True, False))\n",
      "banana\n"
     ]
    }
   ],
   "source": [
    "intTuple = (1,2,3)\n",
    "strTuple = (\"apple\", \"banana\", \"cat\")\n",
    "boolTuple = (True, False)\n",
    "\n",
    "superTuple = intTuple + strTuple + boolTuple\n",
    "nestedTuple = (intTuple,) + (strTuple,) + (boolTuple,)\n",
    "\n",
    "print(superTuple)\n",
    "print(nestedTuple)\n",
    "\n",
    "print(   nestedTuple[1] [-2]   )"
   ]
  },
  {
   "cell_type": "markdown",
   "metadata": {},
   "source": [
    "<hr>"
   ]
  },
  {
   "cell_type": "markdown",
   "metadata": {},
   "source": [
    "### Lists"
   ]
  },
  {
   "cell_type": "markdown",
   "metadata": {},
   "source": [
    "***_myList_ = []** to create an empty list  \n",
    "____ Lists are ordered and mutable containers  \n",
    "Elements can be accessed similar to tuples  \n",
    "Lists can be sliced and concatenated similar to tuples  \n",
    "____ Use cocatenate vs extend when the original values of the two lists have to be preserved and the concatenated value is needed in a separate variable  \n",
    "\n",
    "**_myList_.extend([_value1_, _value2_])**  \n",
    "____ adds elements to the list  \n",
    "________ only takes on argument  \n",
    "  \n",
    "**_myList_.append([_value1_, _value2_])**  \n",
    "____ adds one element to the list  \n",
    "________ if multiple elements added in one argument, it is added as a list (nesting it)  \n",
    "  \n",
    "**del(_myList_[_n_])**  \n",
    "_____ deletes element at nth index  \n",
    "  \n",
    "**_stringVar_.split(\"_optional parameter of argument to select delimiter_\")**  \n",
    "____ splits each group of characters separated by a space into its own element; if no argument provided, the default are spaces  \n",
    "________ Doesn't return commas   "
   ]
  },
  {
   "cell_type": "code",
   "execution_count": 6,
   "metadata": {},
   "outputs": [
    {
     "name": "stdout",
     "output_type": "stream",
     "text": [
      "[1, 2, 3, 4, 5, 6]\n",
      "Using Append:\n",
      "[1, 2, 3, [4, 5, 6]]\n",
      "Using Extend: /n\n",
      "[4, 5, 6, 7, 8, 9]\n",
      "Using Split below:\n",
      "Hello, my name is Binaryxx\n",
      "['Hello,', 'my', 'name', 'is', 'Binaryxx']\n"
     ]
    }
   ],
   "source": [
    "myList1 = [1,2,3]\n",
    "myList2 = [4,5,6]\n",
    "print(myList1 + myList2)\n",
    "\n",
    "myList1.append([4,5,6])\n",
    "myList2.extend([7,8,9])\n",
    "print(\"Using Append:\")\n",
    "print(myList1)\n",
    "print(\"Using Extend: /n\")\n",
    "print(myList2)\n",
    "\n",
    "print(\"Using Split below:\")\n",
    "myString = \"Hello, my name is Binaryxx\"\n",
    "print(myString)\n",
    "print(   myString.split()   )"
   ]
  },
  {
   "cell_type": "markdown",
   "metadata": {},
   "source": [
    "##### Other Methods for Arrays learned through HackerRank/W3 Schools"
   ]
  },
  {
   "cell_type": "markdown",
   "metadata": {},
   "source": [
    "**_myList_.insert( _index to insert_ , _item to be inserted_ )**  \n",
    "____ Insert an element at a specified position  \n",
    "  \n",
    "**_myList_.clear()**  \n",
    "____ Removes all items in a list  \n",
    "  \n",
    "**_myList_.copy()**  \n",
    "____ Returns a copy of the list  \n",
    "________ Good for assigning the same values for a new variable; similar to **_newList_ = _myList_[:]**  \n",
    "  \n",
    "**_myList_.index (_value to check to find the index of_)**  \n",
    "____ Returns the index of an item of a specified value  \n",
    "________ Returns the first instance in a situation with duplicates  \n",
    "  \n",
    "**_myList_.pop(_index to remove item_)**  \n",
    "____ Removes an item at a specified index and returns that value    \n",
    "________Defaults to -1; Meaning remove the last item  \n",
    "  \n",
    "**_myList_remove(_value criteria to remove an item_)**  \n",
    "____ Removes the first item to match the value criteria  \n",
    "________ Acts the same as using index and pop together  \n",
    "____________ Returns an error when the item does not exist in the list; need to failsafe when using  \n",
    "  \n",
    "**_myList_.reverse()**  \n",
    "____ Reverses the order of the list  \n",
    "  \n",
    "**_myList_.sort(reverse=_True or False_, _key = code for sorting function_)**  \n",
    "____ Reverse and key are optional parameters  \n",
    "________ If reverse is true, will sort in descending order; default is ascending (True)"
   ]
  },
  {
   "cell_type": "code",
   "execution_count": 5,
   "metadata": {},
   "outputs": [
    {
     "name": "stdout",
     "output_type": "stream",
     "text": [
      "[1, 2, 3, 3.5, 4, 5]\n",
      "Cleared list below\n",
      "[]\n",
      "Index of number 3 below\n",
      "2\n",
      "Removes the 0 index below below\n",
      "3.5\n",
      "Pops 4 below\n",
      "[1, 2, 3, 5]\n",
      "Reverses order below\n",
      "[5, 3, 2, 1]\n",
      "Sorts in descending order after adding 4 and 6 at the start\n",
      "[5, 3, 2, 1, 4, 6]\n",
      "[6, 5, 4, 3, 2, 1]\n"
     ]
    }
   ],
   "source": [
    "testList = [1,2,3,4,5]\n",
    "testList.insert(3,3.5) # make 3.5 the new 3rd index\n",
    "print(testList)\n",
    "\n",
    "copyList = testList.copy()\n",
    "\n",
    "print(\"Cleared list below\")\n",
    "testList.clear()\n",
    "print(testList)\n",
    "\n",
    "print(\"Index of number 3 below\")\n",
    "print(   copyList.index(3)   )\n",
    "\n",
    "print(\"Removes the 0 index below below\")\n",
    "print(copyList.pop(3))\n",
    "\n",
    "print(\"Pops 4 below\")\n",
    "copyList.remove(4)\n",
    "print(copyList)\n",
    "\n",
    "print(\"Reverses order below\")\n",
    "copyList.reverse()\n",
    "print(copyList)\n",
    "\n",
    "print(\"Sorts in descending order after adding 4 and 6 at the start\")\n",
    "copyList.extend([4, 6])\n",
    "print(copyList)\n",
    "copyList.sort(reverse=True)\n",
    "print(copyList)"
   ]
  },
  {
   "cell_type": "markdown",
   "metadata": {},
   "source": [
    "<hr>"
   ]
  },
  {
   "cell_type": "markdown",
   "metadata": {},
   "source": [
    "### Misc"
   ]
  },
  {
   "cell_type": "markdown",
   "metadata": {},
   "source": [
    "A tuple with one value is treated as assigning a variable; adding a comma after the first value allows it to be registered as a tuple  \n",
    "___ _Example:_ **testTuple = (\"test\")** is not a tuple but rather a string variable; only applies to Tuples (arrays are fine); **testTuple = (\"test\",)** is a single element tuple"
   ]
  },
  {
   "cell_type": "code",
   "execution_count": 77,
   "metadata": {},
   "outputs": [
    {
     "name": "stdout",
     "output_type": "stream",
     "text": [
      "test1\n",
      "('test1',)\n"
     ]
    }
   ],
   "source": [
    "fakeTuple = (\"test1\")\n",
    "realTuple = (\"test1\",)\n",
    "\n",
    "print(fakeTuple)\n",
    "print(realTuple)\n"
   ]
  },
  {
   "cell_type": "markdown",
   "metadata": {},
   "source": [
    "Multiple variables referencing the same object is called _Aliasing_  \n",
    "To create a copy of a list to create a new object, use **_dupeList_ = _origList_[:]**  \n",
    "____ this is helpful to avoid aliasing; changing the object that _origList_ refers to but _dupeList_ is not impacted by the change  \n",
    "To reassign an element, simply refer to the element and then reassign as if a variable"
   ]
  },
  {
   "cell_type": "code",
   "execution_count": 78,
   "metadata": {},
   "outputs": [
    {
     "name": "stdout",
     "output_type": "stream",
     "text": [
      "[1, 2, 3]\n",
      "[1, 2, 4]\n"
     ]
    }
   ],
   "source": [
    "origList = [1,2,3]\n",
    "dupeList = origList[:]\n",
    "\n",
    "origList[2] = 4\n",
    "\n",
    "print(dupeList)\n",
    "print(origList)"
   ]
  },
  {
   "cell_type": "markdown",
   "metadata": {},
   "source": [
    "help(_object_)  \n",
    "____ Presents a list of actions that can be done with the object as well as its properties"
   ]
  },
  {
   "cell_type": "code",
   "execution_count": 79,
   "metadata": {},
   "outputs": [
    {
     "name": "stdout",
     "output_type": "stream",
     "text": [
      "Help on list object:\n",
      "\n",
      "class list(object)\n",
      " |  list(iterable=(), /)\n",
      " |  \n",
      " |  Built-in mutable sequence.\n",
      " |  \n",
      " |  If no argument is given, the constructor creates a new empty list.\n",
      " |  The argument must be an iterable if specified.\n",
      " |  \n",
      " |  Methods defined here:\n",
      " |  \n",
      " |  __add__(self, value, /)\n",
      " |      Return self+value.\n",
      " |  \n",
      " |  __contains__(self, key, /)\n",
      " |      Return key in self.\n",
      " |  \n",
      " |  __delitem__(self, key, /)\n",
      " |      Delete self[key].\n",
      " |  \n",
      " |  __eq__(self, value, /)\n",
      " |      Return self==value.\n",
      " |  \n",
      " |  __ge__(self, value, /)\n",
      " |      Return self>=value.\n",
      " |  \n",
      " |  __getattribute__(self, name, /)\n",
      " |      Return getattr(self, name).\n",
      " |  \n",
      " |  __getitem__(...)\n",
      " |      x.__getitem__(y) <==> x[y]\n",
      " |  \n",
      " |  __gt__(self, value, /)\n",
      " |      Return self>value.\n",
      " |  \n",
      " |  __iadd__(self, value, /)\n",
      " |      Implement self+=value.\n",
      " |  \n",
      " |  __imul__(self, value, /)\n",
      " |      Implement self*=value.\n",
      " |  \n",
      " |  __init__(self, /, *args, **kwargs)\n",
      " |      Initialize self.  See help(type(self)) for accurate signature.\n",
      " |  \n",
      " |  __iter__(self, /)\n",
      " |      Implement iter(self).\n",
      " |  \n",
      " |  __le__(self, value, /)\n",
      " |      Return self<=value.\n",
      " |  \n",
      " |  __len__(self, /)\n",
      " |      Return len(self).\n",
      " |  \n",
      " |  __lt__(self, value, /)\n",
      " |      Return self<value.\n",
      " |  \n",
      " |  __mul__(self, value, /)\n",
      " |      Return self*value.\n",
      " |  \n",
      " |  __ne__(self, value, /)\n",
      " |      Return self!=value.\n",
      " |  \n",
      " |  __repr__(self, /)\n",
      " |      Return repr(self).\n",
      " |  \n",
      " |  __reversed__(self, /)\n",
      " |      Return a reverse iterator over the list.\n",
      " |  \n",
      " |  __rmul__(self, value, /)\n",
      " |      Return value*self.\n",
      " |  \n",
      " |  __setitem__(self, key, value, /)\n",
      " |      Set self[key] to value.\n",
      " |  \n",
      " |  __sizeof__(self, /)\n",
      " |      Return the size of the list in memory, in bytes.\n",
      " |  \n",
      " |  append(self, object, /)\n",
      " |      Append object to the end of the list.\n",
      " |  \n",
      " |  clear(self, /)\n",
      " |      Remove all items from list.\n",
      " |  \n",
      " |  copy(self, /)\n",
      " |      Return a shallow copy of the list.\n",
      " |  \n",
      " |  count(self, value, /)\n",
      " |      Return number of occurrences of value.\n",
      " |  \n",
      " |  extend(self, iterable, /)\n",
      " |      Extend list by appending elements from the iterable.\n",
      " |  \n",
      " |  index(self, value, start=0, stop=9223372036854775807, /)\n",
      " |      Return first index of value.\n",
      " |      \n",
      " |      Raises ValueError if the value is not present.\n",
      " |  \n",
      " |  insert(self, index, object, /)\n",
      " |      Insert object before index.\n",
      " |  \n",
      " |  pop(self, index=-1, /)\n",
      " |      Remove and return item at index (default last).\n",
      " |      \n",
      " |      Raises IndexError if list is empty or index is out of range.\n",
      " |  \n",
      " |  remove(self, value, /)\n",
      " |      Remove first occurrence of value.\n",
      " |      \n",
      " |      Raises ValueError if the value is not present.\n",
      " |  \n",
      " |  reverse(self, /)\n",
      " |      Reverse *IN PLACE*.\n",
      " |  \n",
      " |  sort(self, /, *, key=None, reverse=False)\n",
      " |      Sort the list in ascending order and return None.\n",
      " |      \n",
      " |      The sort is in-place (i.e. the list itself is modified) and stable (i.e. the\n",
      " |      order of two equal elements is maintained).\n",
      " |      \n",
      " |      If a key function is given, apply it once to each list item and sort them,\n",
      " |      ascending or descending, according to their function values.\n",
      " |      \n",
      " |      The reverse flag can be set to sort in descending order.\n",
      " |  \n",
      " |  ----------------------------------------------------------------------\n",
      " |  Class methods defined here:\n",
      " |  \n",
      " |  __class_getitem__(...) from builtins.type\n",
      " |      See PEP 585\n",
      " |  \n",
      " |  ----------------------------------------------------------------------\n",
      " |  Static methods defined here:\n",
      " |  \n",
      " |  __new__(*args, **kwargs) from builtins.type\n",
      " |      Create and return a new object.  See help(type) for accurate signature.\n",
      " |  \n",
      " |  ----------------------------------------------------------------------\n",
      " |  Data and other attributes defined here:\n",
      " |  \n",
      " |  __hash__ = None\n",
      "\n"
     ]
    }
   ],
   "source": [
    "help(origList)"
   ]
  }
 ],
 "metadata": {
  "kernelspec": {
   "display_name": "Python 3.11.0 64-bit",
   "language": "python",
   "name": "python3"
  },
  "language_info": {
   "codemirror_mode": {
    "name": "ipython",
    "version": 3
   },
   "file_extension": ".py",
   "mimetype": "text/x-python",
   "name": "python",
   "nbconvert_exporter": "python",
   "pygments_lexer": "ipython3",
   "version": "3.11.0"
  },
  "orig_nbformat": 4,
  "vscode": {
   "interpreter": {
    "hash": "1c840a969b159f73f4b9e73e40c60a0fd7d0b9ac506a50c2c7e455b8c693fb36"
   }
  }
 },
 "nbformat": 4,
 "nbformat_minor": 2
}
