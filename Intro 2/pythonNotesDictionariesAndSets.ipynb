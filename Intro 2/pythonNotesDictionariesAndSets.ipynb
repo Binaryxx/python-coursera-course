{
 "cells": [
  {
   "cell_type": "markdown",
   "metadata": {},
   "source": [
    "# Python Notes: Dictionaries and Sets\n",
    "<hr>"
   ]
  },
  {
   "cell_type": "markdown",
   "metadata": {},
   "source": [
    "### Dictionaries"
   ]
  },
  {
   "cell_type": "markdown",
   "metadata": {},
   "source": [
    "Similar to how lists have indexes and elements, dictionaries have keys and values. However, the keys do not have to be integers. Keys can be in characters.  \n",
    "**_myDict_ = {_\"key1\": value1, \"key2\":value2, \"keyN\":valueN_}**  \n",
    "---> keys have to be unique and immutable  \n",
    "---> values can be immutable, mutable, or duplicates  \n",
    "---> keys and values are separated by a comma  \n",
    "  \n",
    "**_myDict_ [_\"key1\"_]**  \n",
    "---> returns the value corresponding to _key1_  \n",
    "  \n",
    "**_myDict_ [_\"key3\"_] = _value3_**  \n",
    "---> creates a new key and value pairing\n",
    "\n",
    "**del(_myDict[\"key1\"]_)**  \n",
    "---> deletes an entry in a dictionary  \n",
    "  \n",
    "**_\"Value2\"_ in _myDict_**  \n",
    "---> checks if _\"Value2\"_ is in _myDict_  \n",
    "-------> returns boolean True or False  \n",
    "  \n",
    "**_myDict_.keys()**  \n",
    "---> returns a list of all the keys  \n",
    "  \n",
    "**_myDict_.values()**  \n",
    "---> returns a list of all the values"
   ]
  },
  {
   "cell_type": "code",
   "execution_count": 22,
   "metadata": {},
   "outputs": [
    {
     "name": "stdout",
     "output_type": "stream",
     "text": [
      "{'Phoenix': 'Duelist', 'Reyna': 'Duelist', 'Cypher': 'Sentinel', 'Astra': 'Controller', 'Kay/O': 'Initiator'}\n",
      "Cypher is a Sentinel\n",
      "{'Reyna': 'Duelist', 'Cypher': 'Sentinel', 'Astra': 'Controller', 'Kay/O': 'Initiator', 'Fade': 'Initiator'}\n",
      "Is Damage a class an Agent Type in Valorant? False\n",
      "Which agents have a played a bit in Valorant? \n",
      "dict_keys(['Reyna', 'Cypher', 'Astra', 'Kay/O', 'Fade'])\n",
      "Which roles have a played a bit in Valorant? \n",
      "dict_values(['Duelist', 'Sentinel', 'Controller', 'Initiator', 'Initiator'])\n"
     ]
    }
   ],
   "source": [
    "myDict = {\"Phoenix\": \"Duelist\", \"Reyna\": \"Duelist\", \"Cypher\":\"Sentinel\", \"Astra\":\"Controller\",\"Kay/O\":\"Initiator\"}\n",
    "print(myDict)\n",
    "\n",
    "print(\"Cypher is a \" + myDict[\"Cypher\"])\n",
    "\n",
    "myDict[\"Fade\"] = \"Initiator\"\n",
    "del(myDict[\"Phoenix\"])\n",
    "print(myDict)\n",
    "\n",
    "print(\"Is Damage a class an Agent Type in Valorant? \" + str(\"Damage\" in myDict))\n",
    "\n",
    "print(\"Which agents have a played a bit in Valorant? \")\n",
    "print(myDict.keys())\n",
    "\n",
    "print(\"Which roles have a played a bit in Valorant? \")\n",
    "print(myDict.values())"
   ]
  },
  {
   "cell_type": "markdown",
   "metadata": {},
   "source": [
    "<hr>"
   ]
  },
  {
   "cell_type": "markdown",
   "metadata": {},
   "source": [
    "### Sets"
   ]
  },
  {
   "cell_type": "markdown",
   "metadata": {},
   "source": [
    "Sets are unordered; meaning there is no index recorded and values are unique  \n",
    "---> When duplicate items are inputted, it is only recorded once  \n",
    "   \n",
    "**mySet = {_item1_, _item2_, _itemN_}**  \n",
    "---> Creates a set  \n",
    "  \n",
    "**set(_myList_)**  \n",
    "---> Converts a list into a set, AKA Type Casting  \n",
    "-------> Have to reassign to a new variable  \n",
    "  \n",
    "**_mySet_.add(\"_value_\")**  \n",
    "---> Add an element in the set  \n",
    "  \n",
    "**_mySet_.remove(\"_value_\")**  \n",
    "---> Removes an element in the set  \n",
    "-------> Returns an error when removing an item that doesn't exist in the set  \n",
    "  \n",
    "**\"_Value_\" in _mySet_**  \n",
    "---> Checks if the value is in the set  \n",
    "-------> Returns a boolean  \n",
    "  \n",
    "**_mySet1_ & _mySet2_** OR **_mySet1_.intersection(_mySet2_)**  \n",
    "---> Returns the values that are in both sets  \n",
    "  \n",
    "**_mySet1_.difference(_mySet2_)**  \n",
    "---> Returns elements that are in _mySet1_ but not in _mySet2_  \n",
    "-------> What makes _mySet1_ different from _mySet2_?  \n",
    "  \n",
    "**_mySet1_.union(_mySet2_)**  \n",
    "---> Combines all the elements together   \n",
    "-------> Returns a set so it has to be assign to a variable to save  \n",
    "  \n",
    "**_mySet1_.issubset(_mySet2_)** OR **_mySet1_.issuperset(_mySet2_)**  \n",
    "---> Checks if _mySet1_ is a subset OR superset of _mySet2_  \n",
    "-------> For subsets, are all the elements in _mySet2_ in _mySet1_? For supersets, does _mySet2_ contain all the elements that are in _mySet1_?  \n",
    "-----------> Returns a boolean  \n"
   ]
  },
  {
   "cell_type": "code",
   "execution_count": 23,
   "metadata": {},
   "outputs": [
    {
     "name": "stdout",
     "output_type": "stream",
     "text": [
      "Creating a set and a list\n",
      "{'banana', 'apple', 'crime'}\n",
      "['apple', 'banana', 'carrot']\n",
      "Modified the sets\n",
      "{'banana', 'apple', 'coconut'}\n",
      "{'banana', 'apple', 'carrot'}\n",
      "Is there non-food items in my set? False\n",
      "The following are items in both sets: {'banana', 'apple'}\n",
      "The following items are all items from both sets: {'banana', 'apple', 'carrot', 'coconut'}\n",
      "Is foodSet a subset of superSet? True\n",
      "Is superSet a superset of foodSet? True\n"
     ]
    }
   ],
   "source": [
    "foodSet = {\"apple\",\"banana\",\"crime\"}\n",
    "foodList = [\"apple\", \"banana\", \"carrot\"]\n",
    "print(\"Creating a set and a list\")\n",
    "print(foodSet)\n",
    "print(foodList)\n",
    "\n",
    "mySet = set(foodList)\n",
    "\n",
    "foodSet.add(\"coconut\")\n",
    "foodSet.remove(\"crime\")\n",
    "\n",
    "print(\"Modified the sets\")\n",
    "print(foodSet)\n",
    "print(mySet)\n",
    "\n",
    "print(\"Is there non-food items in my set? \" + str(  \"crime\" in foodSet  ))\n",
    "\n",
    "combinedSet = mySet & foodSet\n",
    "print(\"The following are items in both sets: \" + str(combinedSet))\n",
    "\n",
    "superSet = mySet.union(foodSet)\n",
    "print(\"The following items are all items from both sets: \" + str(superSet))\n",
    "\n",
    "print(\"Is foodSet a subset of superSet? \" + str(foodSet.issubset(superSet)))\n",
    "print(\"Is superSet a superset of foodSet? \" + str(superSet.issuperset(foodSet)))\n"
   ]
  },
  {
   "cell_type": "markdown",
   "metadata": {},
   "source": [
    "<hr>"
   ]
  },
  {
   "cell_type": "markdown",
   "metadata": {},
   "source": [
    "### Misc"
   ]
  },
  {
   "cell_type": "markdown",
   "metadata": {},
   "source": [
    "For containers, **sum(_myContainer_, _starting index_)** will return the sum of all the numbers in the container"
   ]
  },
  {
   "cell_type": "code",
   "execution_count": 24,
   "metadata": {},
   "outputs": [
    {
     "data": {
      "text/plain": [
       "6"
      ]
     },
     "execution_count": 24,
     "metadata": {},
     "output_type": "execute_result"
    }
   ],
   "source": [
    "myList = [1,2,3]\n",
    "sum(myList)"
   ]
  }
 ],
 "metadata": {
  "kernelspec": {
   "display_name": "Python 3.11.0 64-bit",
   "language": "python",
   "name": "python3"
  },
  "language_info": {
   "codemirror_mode": {
    "name": "ipython",
    "version": 3
   },
   "file_extension": ".py",
   "mimetype": "text/x-python",
   "name": "python",
   "nbconvert_exporter": "python",
   "pygments_lexer": "ipython3",
   "version": "3.11.0"
  },
  "orig_nbformat": 4,
  "vscode": {
   "interpreter": {
    "hash": "1c840a969b159f73f4b9e73e40c60a0fd7d0b9ac506a50c2c7e455b8c693fb36"
   }
  }
 },
 "nbformat": 4,
 "nbformat_minor": 2
}
