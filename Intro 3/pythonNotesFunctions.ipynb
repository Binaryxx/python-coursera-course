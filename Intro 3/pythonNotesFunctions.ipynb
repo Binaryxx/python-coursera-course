{
 "cells": [
  {
   "cell_type": "markdown",
   "metadata": {},
   "source": [
    "# Python notes: Functions\n",
    "<hr>"
   ]
  },
  {
   "cell_type": "markdown",
   "metadata": {},
   "source": [
    "A function is a reusable and callable block of code  "
   ]
  },
  {
   "cell_type": "markdown",
   "metadata": {},
   "source": [
    "### Built-in Functions"
   ]
  },
  {
   "cell_type": "markdown",
   "metadata": {},
   "source": [
    "**sorted(_myList_)**  \n",
    "> returns a sorted list  \n",
    ">> has to be reassigned to store  \n",
    ">>> in comparison to the method _myList_.sort(), which changes _myList_  \n",
    "  \n",
    "* Functions usually returns an output rather than changing the object inputted like a method does\n",
    "\n"
   ]
  },
  {
   "cell_type": "markdown",
   "metadata": {},
   "source": [
    "**def _myFunction_(_parameters_)**  \n",
    "---- **_block of code_**  \n",
    "---- **return**  \n",
    "  \n",
    "Defines a function  \n",
    "> to call, use the function name and input any necessary parameters  \n",
    "> functions can be defined without needing an input parameter  \n",
    "  \n",
    "\n",
    "It is customary to include a comment of what the function does in the function, usually through the use of triple quotes to encapsulate the comment which acts as the documentation  \n",
    "> Using the function **help(_myFunction_)** will return the what is in the documentation  "
   ]
  },
  {
   "cell_type": "code",
   "execution_count": 20,
   "metadata": {},
   "outputs": [
    {
     "name": "stdout",
     "output_type": "stream",
     "text": [
      "3\n",
      "Help on function myFunction in module __main__:\n",
      "\n",
      "myFunction(a)\n",
      "    This function adds 1 to the input\n",
      "\n"
     ]
    }
   ],
   "source": [
    "def myFunction(a):\n",
    "    \"\"\"\n",
    "    This function adds 1 to the input\n",
    "    \"\"\"\n",
    "    b = a + 1\n",
    "    return b \n",
    "\n",
    "myResult = myFunction(2)\n",
    "print(myResult)\n",
    "\n",
    "help(myFunction)"
   ]
  },
  {
   "cell_type": "markdown",
   "metadata": {},
   "source": [
    "* Use asterisks in the parameter field to indicate that the inputs will be put in one tuple  \n",
    "* keywords can also be referenced to indicate which argument each input is assigned to  \n",
    "> **myFunction(_argument2_ = _value2_,_argument1_= _value1_)**"
   ]
  },
  {
   "cell_type": "code",
   "execution_count": 21,
   "metadata": {},
   "outputs": [
    {
     "name": "stdout",
     "output_type": "stream",
     "text": [
      "1\n",
      "2\n",
      "3\n"
     ]
    }
   ],
   "source": [
    "def collectorFunction(*a):\n",
    "    \"\"\"\n",
    "    This function will print all the inputs in one tuple\n",
    "    \"\"\"\n",
    "\n",
    "    for i in a:\n",
    "        print(i)\n",
    "\n",
    "collectorFunction(1,2,3)"
   ]
  },
  {
   "cell_type": "code",
   "execution_count": 22,
   "metadata": {},
   "outputs": [
    {
     "name": "stdout",
     "output_type": "stream",
     "text": [
      "This will not be ignored\n"
     ]
    }
   ],
   "source": [
    "def ignoreFunction(a,b):\n",
    "    \"\"\"\n",
    "    This function will ignore the first argument and print the second argument\n",
    "    \"\"\"\n",
    "    print(b)\n",
    "\n",
    "ignoreFunction(b = \"This will not be ignored\", a = \"This doesn't matter\")"
   ]
  },
  {
   "cell_type": "markdown",
   "metadata": {},
   "source": [
    "<hr>"
   ]
  },
  {
   "cell_type": "markdown",
   "metadata": {},
   "source": [
    "### Scope"
   ]
  },
  {
   "cell_type": "markdown",
   "metadata": {},
   "source": [
    "* Variables created in the function is local until stored in a global variable  \n",
    "> local variables created when a function is called only exists during that call instance; afterwards, the variables' values disappear   \n",
    "> meaning, if I assign var1 in global and then have a function run that assigns var1 to a different value, var1 global will be printed if printed from global and var1 local will be printed if printed from local  \n",
    "> if a function refers to a variable, it will check locally first and then globally if nothing was found locally  \n",
    "  \n",
    "* **global _myVar_** can define a global variable| from within a function\n"
   ]
  },
  {
   "cell_type": "code",
   "execution_count": 27,
   "metadata": {},
   "outputs": [
    {
     "name": "stdout",
     "output_type": "stream",
     "text": [
      "4\n"
     ]
    }
   ],
   "source": [
    "#Using local variable over global variable\n",
    "square = 0\n",
    "\n",
    "def square(myVar):\n",
    "    square = myVar * myVar\n",
    "    print(square)\n",
    "\n",
    "square(2)"
   ]
  },
  {
   "cell_type": "code",
   "execution_count": 30,
   "metadata": {},
   "outputs": [
    {
     "name": "stdout",
     "output_type": "stream",
     "text": [
      "0\n"
     ]
    }
   ],
   "source": [
    "#Using global variable when no local variable\n",
    "myCube = 0\n",
    "\n",
    "def cube(myVar):\n",
    "    print(myCube)\n",
    "\n",
    "cube(2)"
   ]
  },
  {
   "cell_type": "code",
   "execution_count": 26,
   "metadata": {},
   "outputs": [
    {
     "name": "stdout",
     "output_type": "stream",
     "text": [
      "Sending to the locals\n"
     ]
    }
   ],
   "source": [
    "def myGlobe(a):\n",
    "    global localVar\n",
    "    localVar = a\n",
    "\n",
    "myGlobe(\"Sending to the locals\")\n",
    "print(localVar)\n"
   ]
  },
  {
   "cell_type": "markdown",
   "metadata": {},
   "source": [
    "<hr>"
   ]
  },
  {
   "cell_type": "markdown",
   "metadata": {},
   "source": [
    "### Misc"
   ]
  },
  {
   "cell_type": "markdown",
   "metadata": {},
   "source": [
    "Use 2 asterisks to accept any number of arguments but also keep a dictionary of the keys and values"
   ]
  },
  {
   "cell_type": "code",
   "execution_count": 24,
   "metadata": {},
   "outputs": [
    {
     "name": "stdout",
     "output_type": "stream",
     "text": [
      "My name is  Binaryxx\n",
      "My nickname is  Binx\n",
      "Invalid arguments\n"
     ]
    }
   ],
   "source": [
    "def introFunction(**name):\n",
    "    try:\n",
    "        print(\"My name is \", name[\"firstname\"])\n",
    "    except:\n",
    "        try:\n",
    "            print(\"My nickname is \", name[\"nickname\"])\n",
    "        except:\n",
    "            print(\"Invalid arguments\")\n",
    "\n",
    "introFunction(firstname = \"Binaryxx\")\n",
    "introFunction(nickname = \"Binx\")\n",
    "introFunction(lastname = \"xxxxxxxx\")\n",
    "\n",
    "\n",
    "\n",
    "    "
   ]
  },
  {
   "cell_type": "markdown",
   "metadata": {},
   "source": [
    "* Default parameter values can be set by setting them when defining the function  \n",
    "> **def _myFunction_(_defaultValue_=_value1_)**"
   ]
  },
  {
   "cell_type": "code",
   "execution_count": 25,
   "metadata": {},
   "outputs": [
    {
     "name": "stdout",
     "output_type": "stream",
     "text": [
      "Printing out default\n"
     ]
    }
   ],
   "source": [
    "def defaultFunction(a=\"Printing out default\"):\n",
    "    print(a)\n",
    "\n",
    "defaultFunction()"
   ]
  }
 ],
 "metadata": {
  "kernelspec": {
   "display_name": "Python 3.11.0 64-bit",
   "language": "python",
   "name": "python3"
  },
  "language_info": {
   "codemirror_mode": {
    "name": "ipython",
    "version": 3
   },
   "file_extension": ".py",
   "mimetype": "text/x-python",
   "name": "python",
   "nbconvert_exporter": "python",
   "pygments_lexer": "ipython3",
   "version": "3.11.0"
  },
  "orig_nbformat": 4,
  "vscode": {
   "interpreter": {
    "hash": "1c840a969b159f73f4b9e73e40c60a0fd7d0b9ac506a50c2c7e455b8c693fb36"
   }
  }
 },
 "nbformat": 4,
 "nbformat_minor": 2
}
