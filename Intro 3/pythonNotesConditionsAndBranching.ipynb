{
 "cells": [
  {
   "cell_type": "markdown",
   "metadata": {},
   "source": [
    "# Python Notes: Conditions and Branching\n",
    "<hr>"
   ]
  },
  {
   "cell_type": "markdown",
   "metadata": {},
   "source": [
    "### Conditions"
   ]
  },
  {
   "cell_type": "markdown",
   "metadata": {},
   "source": [
    "**a = 6** is an assignment to a  \n",
    "**a == 6** is a comparison to the integer 6"
   ]
  },
  {
   "cell_type": "markdown",
   "metadata": {},
   "source": [
    "#### Comparison Operators"
   ]
  },
  {
   "cell_type": "markdown",
   "metadata": {},
   "source": [
    "Returns booleans\n",
    "\n",
    "(==) : equals  \n",
    "(!=) : not equals  \n",
    "(>) : greater than  \n",
    "(>=) : greater than or equals to  \n",
    "(<) : less than  \n",
    "(<=) : less than orn equals to\n",
    "\n"
   ]
  },
  {
   "cell_type": "markdown",
   "metadata": {},
   "source": [
    "### Branching"
   ]
  },
  {
   "cell_type": "markdown",
   "metadata": {},
   "source": [
    "##### If Statement:  \n",
    "**if _condition_:**  \n",
    "---- **_block of code_**  \n",
    "**_the program ignores the block of code indented and proceeds to the next line_**  \n",
    "  \n",
    "---> Checks a condition; if true, then the code indented is ran, otherwise the program skips it"
   ]
  },
  {
   "cell_type": "code",
   "execution_count": 1,
   "metadata": {},
   "outputs": [
    {
     "name": "stdout",
     "output_type": "stream",
     "text": [
      "x is 1\n",
      "the program is done\n"
     ]
    }
   ],
   "source": [
    "x = 1\n",
    "if x == 1:\n",
    "    print(\"x is 1\")\n",
    "print(\"the program is done\")"
   ]
  },
  {
   "cell_type": "markdown",
   "metadata": {},
   "source": [
    "##### Else Statement:\n",
    "**if _condition_:**  \n",
    "---- **_block of code_**  \n",
    "**else:**  \n",
    "---- **_where the program goes if the condition is not met; skipping the block of code in the if statement_** \n",
    "   \n",
    "---> If the if condition is met, the program skips the block of code in the else statement  \n",
    "---> If the if condition is not met, the program skips the block of code in the if statement and goes to the block of code in the else statement"
   ]
  },
  {
   "cell_type": "code",
   "execution_count": 3,
   "metadata": {},
   "outputs": [
    {
     "name": "stdout",
     "output_type": "stream",
     "text": [
      "x is not 1\n",
      "the program is done\n"
     ]
    }
   ],
   "source": [
    "x = 2\n",
    "if x == 1:\n",
    "    print(\"x is 1\")\n",
    "else:\n",
    "    print(\"x is not 1\")\n",
    "print(\"the program is done\")\n",
    "    "
   ]
  },
  {
   "cell_type": "markdown",
   "metadata": {},
   "source": [
    "##### Elif Statement:"
   ]
  },
  {
   "cell_type": "markdown",
   "metadata": {},
   "source": [
    "**if _condition_:**  \n",
    "---- **_block of code if if is true_**  \n",
    "**elif _condition_:**  \n",
    "---- **_block of code if elif is true_**  \n",
    "**else:**  \n",
    "---- **_block of code if if or elif is not true; skipping the block of code in the if statement_**  \n",
    "  \n",
    "---> elif is another condition that is checked before the program determines whether it should go to the else statement or continue if no else statement  \n",
    "-------> the elif statement only runs if the preceding if statement is false; if the if statement before is true, it would skip the block in the else and elif statements  \n",
    "---> Once all if and elif statements are false, the else block in the else statement is then ran; the else acts as a catch all for other conditions and what to run    "
   ]
  },
  {
   "cell_type": "code",
   "execution_count": 5,
   "metadata": {},
   "outputs": [
    {
     "name": "stdout",
     "output_type": "stream",
     "text": [
      "x is 2\n",
      "the program is done\n"
     ]
    }
   ],
   "source": [
    "x = 2\n",
    "if x == 1:\n",
    "    print(\"x is 1\")\n",
    "elif x == 2:\n",
    "    print(\"x is 2\")\n",
    "else:\n",
    "    print('x is not 1 or 2')\n",
    "print(\"the program is done\")"
   ]
  },
  {
   "cell_type": "markdown",
   "metadata": {},
   "source": [
    "#### Sidenote:"
   ]
  },
  {
   "cell_type": "markdown",
   "metadata": {},
   "source": [
    "Use of multiple if vs multiple elifs have different outcomes  \n",
    "---> Elif is useful if the desired outcome is that only that code runs if the previous elif and if conditions fail;  "
   ]
  },
  {
   "cell_type": "code",
   "execution_count": 7,
   "metadata": {},
   "outputs": [
    {
     "name": "stdout",
     "output_type": "stream",
     "text": [
      "x is less than 4\n",
      "program is done\n"
     ]
    }
   ],
   "source": [
    "# The program skips elifs and else despite the condition being met in the elif\n",
    "\n",
    "x = 1\n",
    "if x < 4:\n",
    "    print('x is less than 4')\n",
    "elif x < 3:\n",
    "    print('x is less than 3')\n",
    "print('program is done')"
   ]
  },
  {
   "cell_type": "code",
   "execution_count": 8,
   "metadata": {},
   "outputs": [
    {
     "name": "stdout",
     "output_type": "stream",
     "text": [
      "x is less than 4\n",
      "x is less than 3\n",
      "program is done\n"
     ]
    }
   ],
   "source": [
    "# The program runs both blocks of code since the condition is met for both\n",
    "\n",
    "x = 1\n",
    "if x < 4:\n",
    "    print('x is less than 4')\n",
    "if x < 3:\n",
    "    print('x is less than 3')\n",
    "print('program is done')"
   ]
  },
  {
   "cell_type": "markdown",
   "metadata": {},
   "source": [
    "<hr>"
   ]
  },
  {
   "cell_type": "markdown",
   "metadata": {},
   "source": [
    "#### Logic Operators  "
   ]
  },
  {
   "cell_type": "markdown",
   "metadata": {},
   "source": [
    "##### Not  \n",
    "**not(_condition_)**  \n",
    "---> Returns the opposite boolean value  "
   ]
  },
  {
   "cell_type": "code",
   "execution_count": 9,
   "metadata": {},
   "outputs": [
    {
     "name": "stdout",
     "output_type": "stream",
     "text": [
      "False\n"
     ]
    }
   ],
   "source": [
    "x = True\n",
    "print(not(x))"
   ]
  },
  {
   "cell_type": "markdown",
   "metadata": {},
   "source": [
    "##### Or  \n",
    "**_condition1_ or _condition2_**  \n",
    "---> Takes in two conditions and returns False if both conditions are False; otherwise it is True  \n",
    "  \n",
    "<table>\n",
    "        <tr>\n",
    "                <th> <i> condition1 \n",
    "                <th> <i> condition2\n",
    "                <th> output\n",
    "        </tr>\n",
    "        <tr>\n",
    "                <td> False\n",
    "                <td> False\n",
    "                <td> False\n",
    "        </tr>\n",
    "        <tr>\n",
    "                <td> True\n",
    "                <td> False\n",
    "                <td> True\n",
    "        </tr>\n",
    "        <tr>\n",
    "                <td> False\n",
    "                <td> True\n",
    "                <td> True\n",
    "        </tr>\n",
    "        <tr>\n",
    "                <td> True\n",
    "                <td> True\n",
    "                <td> True\n",
    "        </tr>\n",
    "\n",
    "</table>"
   ]
  },
  {
   "cell_type": "code",
   "execution_count": 12,
   "metadata": {},
   "outputs": [
    {
     "name": "stdout",
     "output_type": "stream",
     "text": [
      "False\n",
      "True\n",
      "True\n",
      "True\n"
     ]
    }
   ],
   "source": [
    "print(False or False)\n",
    "\n",
    "print(True or False)\n",
    "print(False or True)\n",
    "print(True or True)"
   ]
  },
  {
   "cell_type": "markdown",
   "metadata": {},
   "source": [
    "##### And  \n",
    "**_condition1_ and _condition2_**  \n",
    "---> Takes in two conditions and returns True only when both are True; Otherwise it returns False  \n",
    "  \n",
    "<table>\n",
    "        <tr>\n",
    "                <th> <i> condition1 \n",
    "                <th> <i> condition2\n",
    "                <th> output\n",
    "        </tr>\n",
    "        <tr>\n",
    "                <td> True\n",
    "                <td> True\n",
    "                <td> True\n",
    "        </tr>\n",
    "        <tr>\n",
    "                <td> True\n",
    "                <td> False\n",
    "                <td> False\n",
    "        </tr>\n",
    "        <tr>\n",
    "                <td> False\n",
    "                <td> True\n",
    "                <td> False\n",
    "        </tr>\n",
    "        <tr>\n",
    "                <td> False\n",
    "                <td> False\n",
    "                <td> False\n",
    "        </tr>"
   ]
  },
  {
   "cell_type": "code",
   "execution_count": 13,
   "metadata": {},
   "outputs": [
    {
     "name": "stdout",
     "output_type": "stream",
     "text": [
      "True\n",
      "False\n",
      "False\n",
      "False\n"
     ]
    }
   ],
   "source": [
    "print(True and True)\n",
    "\n",
    "print(True and False)\n",
    "print(False and True)\n",
    "print(False and False)"
   ]
  },
  {
   "cell_type": "code",
   "execution_count": 15,
   "metadata": {},
   "outputs": [
    {
     "name": "stdout",
     "output_type": "stream",
     "text": [
      "Random string 1990\n"
     ]
    }
   ],
   "source": [
    "myVar = 1990\n",
    "print(\"Random string\", myVar)"
   ]
  }
 ],
 "metadata": {
  "kernelspec": {
   "display_name": "Python 3.11.0 64-bit",
   "language": "python",
   "name": "python3"
  },
  "language_info": {
   "codemirror_mode": {
    "name": "ipython",
    "version": 3
   },
   "file_extension": ".py",
   "mimetype": "text/x-python",
   "name": "python",
   "nbconvert_exporter": "python",
   "pygments_lexer": "ipython3",
   "version": "3.11.0"
  },
  "orig_nbformat": 4,
  "vscode": {
   "interpreter": {
    "hash": "1c840a969b159f73f4b9e73e40c60a0fd7d0b9ac506a50c2c7e455b8c693fb36"
   }
  }
 },
 "nbformat": 4,
 "nbformat_minor": 2
}
