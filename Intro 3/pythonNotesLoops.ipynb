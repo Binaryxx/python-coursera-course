{
 "cells": [
  {
   "cell_type": "markdown",
   "metadata": {},
   "source": [
    "# Python Notes: Loops"
   ]
  },
  {
   "cell_type": "markdown",
   "metadata": {},
   "source": [
    "### Range Function\n",
    "**range(_N_)**  \n",
    "> outputs an ordered sequence of numbers [0, ..., N-1]]  \n",
    ">> does not exactly create a list of ordered numbers   \n",
    ">>> when asked to print, it returns something else; it's this way to keep memory efficient, so it doesnt store the entire sequence  \n",
    ">>> but when asked to iterate, it functions similar to a list  \n",
    "  \n",
    "**range(_starting index_,_first index to not process_,_steps/multiplier_)**  "
   ]
  },
  {
   "cell_type": "code",
   "execution_count": 3,
   "metadata": {},
   "outputs": [
    {
     "name": "stdout",
     "output_type": "stream",
     "text": [
      "range(0, 3)\n"
     ]
    }
   ],
   "source": [
    "sequenceList = range(3)\n",
    "print(sequenceList)"
   ]
  },
  {
   "cell_type": "markdown",
   "metadata": {},
   "source": [
    "### For & While Loop"
   ]
  },
  {
   "cell_type": "markdown",
   "metadata": {},
   "source": [
    "**for i in myIterable:**  \n",
    "---- **_print(i)_**  \n",
    "  \n",
    "for loops iterate through an iterable in the sequence presented until done\n",
    "> value of i is incremented by 1 per iteration  \n",
    ">> i in this example is a placeholder, temporary variable to iterate with  \n",
    ">>> i would store the current value for the given iteration and will be replaced with the next iteration's value  \n",
    "acts in the idea of \"for all instances present, run this code\"  \n",
    "Use for loop if the process needs to be done on all items in the collection  \n",
    "  \n",
    "**for i in range(_parameters_):**  \n",
    "---- **_block of code to run in a loop_**  \n",
    "> code to loop a certain amount of times"
   ]
  },
  {
   "cell_type": "code",
   "execution_count": 54,
   "metadata": {},
   "outputs": [
    {
     "name": "stdout",
     "output_type": "stream",
     "text": [
      "apple\n",
      "banana\n",
      "carrot\n"
     ]
    }
   ],
   "source": [
    "myList = [\"apple\", \"banana\", \"carrot\"]\n",
    "\n",
    "for i in myList:\n",
    "    print(i)"
   ]
  },
  {
   "cell_type": "code",
   "execution_count": 55,
   "metadata": {},
   "outputs": [
    {
     "name": "stdout",
     "output_type": "stream",
     "text": [
      "apple\n",
      "banana\n",
      "carrot\n"
     ]
    }
   ],
   "source": [
    "# An equivalent code below\n",
    "\n",
    "myList = [\"apple\", \"banana\", \"carrot\"]\n",
    "N = len(myList)\n",
    "\n",
    "for i in range(N):\n",
    "    print(myList[i])"
   ]
  },
  {
   "cell_type": "code",
   "execution_count": 4,
   "metadata": {},
   "outputs": [
    {
     "name": "stdout",
     "output_type": "stream",
     "text": [
      "Iteration:  0\n",
      "Iteration:  1\n",
      "Iteration:  2\n"
     ]
    }
   ],
   "source": [
    "for i in range(3):\n",
    "    print(\"Iteration: \", i)"
   ]
  },
  {
   "cell_type": "markdown",
   "metadata": {},
   "source": [
    "**i = 0**  \n",
    "**while i _parameter_:**  \n",
    "---- **_block of code to run in loop_**  \n",
    "---- **i+= 1**  \n",
    "  \n",
    "while loops keep iterating/running until the condition is no longer true; be wary of non ending while loops  \n",
    "> equivalent code of for loop above  \n",
    "> while loops have to be initiated and then iterated manually  \n",
    "  \n",
    "acts in the idea of \"while True, run this code\"  \n",
    "Use a while loop when the process has to be done until a certain condition has been met\n"
   ]
  },
  {
   "cell_type": "code",
   "execution_count": 15,
   "metadata": {},
   "outputs": [
    {
     "name": "stdout",
     "output_type": "stream",
     "text": [
      "appple\n",
      "banana\n",
      "carrot\n"
     ]
    }
   ],
   "source": [
    "myList = [\"appple\", \"banana\", \"carrot\"]\n",
    "\n",
    "i = 0\n",
    "while True: \n",
    "    try: \n",
    "        print(myList[i])\n",
    "        i += 1\n",
    "    except:\n",
    "        break\n"
   ]
  },
  {
   "cell_type": "code",
   "execution_count": 16,
   "metadata": {},
   "outputs": [
    {
     "name": "stdout",
     "output_type": "stream",
     "text": [
      "Iteration:  0\n",
      "Iteration:  1\n",
      "Iteration:  2\n"
     ]
    }
   ],
   "source": [
    "i = 0\n",
    "while i < 3:\n",
    "    print(\"Iteration: \", i)\n",
    "    i += 1\n"
   ]
  },
  {
   "cell_type": "markdown",
   "metadata": {},
   "source": [
    "<hr>"
   ]
  },
  {
   "cell_type": "markdown",
   "metadata": {},
   "source": [
    "### Misc"
   ]
  },
  {
   "cell_type": "markdown",
   "metadata": {},
   "source": [
    "**enumerate(_myContainer_)**  \n",
    "> converts collection into an enumarate object  \n",
    "> converts each element into a tuple with the value and index; have to be turned to a collection again to print out as is\n",
    ">> can iterate and print each individual index and value"
   ]
  },
  {
   "cell_type": "code",
   "execution_count": 22,
   "metadata": {},
   "outputs": [
    {
     "name": "stdout",
     "output_type": "stream",
     "text": [
      "[(0, 'apple'), (1, 'banana'), (2, 'coconut')]\n"
     ]
    }
   ],
   "source": [
    "myList = [\"apple\", \"banana\", \"coconut\"]\n",
    "enumeratedList = list(enumerate(myList))\n",
    "\n",
    "print(enumeratedList)"
   ]
  },
  {
   "cell_type": "code",
   "execution_count": 28,
   "metadata": {},
   "outputs": [
    {
     "name": "stdout",
     "output_type": "stream",
     "text": [
      "(0, 'apple')\n",
      "(1, 'banana')\n",
      "(2, 'coconut')\n"
     ]
    }
   ],
   "source": [
    "myList = [\"apple\", \"banana\", \"coconut\"]\n",
    "\n",
    "for i in enumerate(myList):\n",
    "    print(i)"
   ]
  },
  {
   "cell_type": "code",
   "execution_count": 41,
   "metadata": {},
   "outputs": [
    {
     "name": "stdout",
     "output_type": "stream",
     "text": [
      "0 apple\n",
      "1 banana\n",
      "2 coconut\n"
     ]
    }
   ],
   "source": [
    "myList = [\"apple\", \"banana\", \"coconut\"]\n",
    "\n",
    "for i, x in enumerate(myList):\n",
    "    print(i, x)\n",
    "\n",
    "# i is the iteration\n",
    "# x is the myList value for that iteration"
   ]
  },
  {
   "cell_type": "markdown",
   "metadata": {},
   "source": [
    "!!! Not sure what the logic is behind for i, x and print(i, x)  \n",
    "> is it just 2 separate temporary variables to keep track of each element in the each tuple so that it can be printed separately? Need to confirm\n",
    ">> Based on test below, it seems like have two iterating variable indicates the program to unpack the iterable if possible based on the number of iterating variables  \n",
    ">>> For example, using *for i,x* means that for each iteration, unpack the element and store each value to i and x respectively"
   ]
  },
  {
   "cell_type": "code",
   "execution_count": 43,
   "metadata": {},
   "outputs": [
    {
     "ename": "TypeError",
     "evalue": "cannot unpack non-iterable int object",
     "output_type": "error",
     "traceback": [
      "\u001b[1;31m---------------------------------------------------------------------------\u001b[0m",
      "\u001b[1;31mTypeError\u001b[0m                                 Traceback (most recent call last)",
      "Cell \u001b[1;32mIn [43], line 1\u001b[0m\n\u001b[1;32m----> 1\u001b[0m \u001b[39mfor\u001b[39;00m i,x \u001b[39min\u001b[39;00m \u001b[39mrange\u001b[39m(\u001b[39m3\u001b[39m):\n\u001b[0;32m      2\u001b[0m     \u001b[39mprint\u001b[39m(i,x)\n",
      "\u001b[1;31mTypeError\u001b[0m: cannot unpack non-iterable int object"
     ]
    }
   ],
   "source": [
    "for i,x in range(3):\n",
    "    print(i,x)"
   ]
  }
 ],
 "metadata": {
  "kernelspec": {
   "display_name": "Python 3.11.0 64-bit",
   "language": "python",
   "name": "python3"
  },
  "language_info": {
   "codemirror_mode": {
    "name": "ipython",
    "version": 3
   },
   "file_extension": ".py",
   "mimetype": "text/x-python",
   "name": "python",
   "nbconvert_exporter": "python",
   "pygments_lexer": "ipython3",
   "version": "3.11.0"
  },
  "orig_nbformat": 4,
  "vscode": {
   "interpreter": {
    "hash": "1c840a969b159f73f4b9e73e40c60a0fd7d0b9ac506a50c2c7e455b8c693fb36"
   }
  }
 },
 "nbformat": 4,
 "nbformat_minor": 2
}
