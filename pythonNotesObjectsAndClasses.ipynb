{
 "cells": [
  {
   "cell_type": "markdown",
   "metadata": {},
   "source": [
    "# Python Notes: Objects and Classes\n",
    "<hr>"
   ]
  },
  {
   "cell_type": "markdown",
   "metadata": {},
   "source": [
    "### Objects"
   ]
  },
  {
   "cell_type": "markdown",
   "metadata": {},
   "source": [
    "The predefined objects in Python are known as data types, such as strings, booleans, and lists  \n",
    "  \n",
    "Every object has the following:  \n",
    "* Type  \n",
    "* Internal Data Representation (blueprint)\n",
    "* Set of Procedures for Interacting with the Object (methods)  \n",
    "  \n",
    "An object is an instance of a particular type  \n",
    "> Whenever an integer object is created, an instance of the integer type is made  "
   ]
  },
  {
   "cell_type": "markdown",
   "metadata": {},
   "source": [
    "#### Obeject Methods"
   ]
  },
  {
   "cell_type": "markdown",
   "metadata": {},
   "source": [
    "A class' or types' methods are functions that every instance of that class or type provides  \n",
    "  \n",
    "It allows interactions with the object  \n",
    "> _myList_.sort() is a method that interacts with the object itself \n",
    ">> on the otherhand, functions are something that usually returns a result [like the sorted() function]  "
   ]
  },
  {
   "cell_type": "markdown",
   "metadata": {},
   "source": [
    "### Class"
   ]
  },
  {
   "cell_type": "markdown",
   "metadata": {},
   "source": [
    "Classes have:  \n",
    "* Data Attributes [defines the class]  \n",
    "* Methods  \n",
    "Instances/Objects of the Class can be made  "
   ]
  },
  {
   "cell_type": "markdown",
   "metadata": {},
   "source": [
    "**class _myClass_(_object_):**  \n",
    "  \n",
    "----**def \\_\\_init\\_\\_(_self_, _attribute1_ = _defaultValue1_, _..._, _attributeN_):**  \n",
    "  \n",
    "-------- **self._attributeName1_ = _attribute1_;**\n",
    "-------- **self._attributeNameN_ = _attributeN_;**\n",
    "\n",
    "  \n",
    "> _object_ is the clas parent; does not always have to be an object  \n",
    "> \\_\\_init\\_\\_ is a method/constructor used to initialize data attributes; assigns values or operations to object properties  \n",
    "> _self_ is a parameter that references to the current instance of the class, used to access attributess that belongs to the class  \n",
    ">> contains the data attributes of the object created  \n",
    "> the defined attributes functions similar to a function  \n",
    ">> parameters can have a set default value  \n",
    "  \n",
    "**_myVar_ = _myClass_(_attribute1_, _attributeN_)**  \n",
    "  \n",
    "creates an instance of _myClass_"
   ]
  },
  {
   "cell_type": "markdown",
   "metadata": {},
   "source": [
    "**_myVar_._attribute1_**  \n",
    "  \n",
    "returns the value of the attribute  \n",
    "  \n",
    "**_myVar_._attribute1_ = _newValue_**  \n",
    "  \n",
    "changes the value of the attribute of the object  "
   ]
  },
  {
   "cell_type": "code",
   "execution_count": 36,
   "metadata": {},
   "outputs": [
    {
     "name": "stdout",
     "output_type": "stream",
     "text": [
      "23\n",
      "John\n"
     ]
    }
   ],
   "source": [
    "class person(object):\n",
    "\n",
    "    def __init__(self, name = \"John\", age = 21, gender = \"M\"): # init is surrounded by 2 underscores\n",
    "\n",
    "        self.name = name;\n",
    "        self.age = age;\n",
    "        self.gender = gender;\n",
    "\n",
    "John = person()\n",
    "\n",
    "Binaryxx = person(\"Binaryxx\", 22, \"M\")\n",
    "Binaryxx.age = 23\n",
    "\n",
    "print(Binaryxx.age)\n",
    "print(John.name)"
   ]
  },
  {
   "cell_type": "markdown",
   "metadata": {},
   "source": [
    "### Class Methods"
   ]
  },
  {
   "cell_type": "markdown",
   "metadata": {},
   "source": [
    "***def _methodName_(self, _parameter1_, ..., _parameterN_ ):**  \n",
    "    \n",
    "---- self._attribute1_ = self._attribute1_ _operation to attribute1 and parameters used_;"
   ]
  },
  {
   "cell_type": "code",
   "execution_count": 41,
   "metadata": {},
   "outputs": [
    {
     "name": "stdout",
     "output_type": "stream",
     "text": [
      "Jessica's age before birthday:  24\n",
      "Jessica's age after birthday:  25\n",
      "Hello, my name is  Jessica\n"
     ]
    }
   ],
   "source": [
    "class person(object):\n",
    "\n",
    "    def __init__(self, name, age, gender):\n",
    "        self.name = name;\n",
    "        self.age = age;\n",
    "        self.gender = gender;\n",
    "\n",
    "    def intro(self):\n",
    "        print(\"Hello, my name is \", self.name);\n",
    "\n",
    "    def birthday(self):\n",
    "         self.age = self.age + 1;\n",
    "\n",
    "Jessica = person(\"Jessica\", 24, \"F\")\n",
    "#Binaryxx = person(\"Binaryxx\", 23, \"M\")\n",
    "\n",
    "print(\"Jessica's age before birthday: \", Jessica.age)\n",
    "Jessica.birthday()\n",
    "print(\"Jessica's age after birthday: \", Jessica.age)\n",
    "Jessica.intro()\n",
    "\n",
    "#dir(Jessica)\n",
    "#dir(Binaryxx)\n"
   ]
  },
  {
   "cell_type": "markdown",
   "metadata": {},
   "source": [
    "_!!! Not sure why but had to reassign the Binaryxx variable in the new cell to make the methods work on Binaryxx object_  \n",
    "* Defined variables from previous cells should be global in the notebook; the attributes of Binaryxx object is still crossing over but I am unable to use a method without redefining Binaryxx object. Without redefining, the method is not recognized as a method; it is instead recognized as an attribute which then returns an error since it isn't initialized  \n",
    "> Maybe because the method didn't exist yet when the object instance Binaryxx was made? So it doesn't have access to it because it wasn't defined?  \n",
    ">> Meaning that all class definitions have to be before the creation of object creation to avoid this problem?  \n",
    "  \n",
    "**_Confirmed with the use of dir() that the case mentioned above is the reason Binaryxx object could not use the birthday method_**"
   ]
  },
  {
   "cell_type": "markdown",
   "metadata": {},
   "source": [
    "<hr>"
   ]
  },
  {
   "cell_type": "markdown",
   "metadata": {},
   "source": [
    "### Misc"
   ]
  },
  {
   "cell_type": "markdown",
   "metadata": {},
   "source": [
    "**dir(_objectName_)**  \n",
    "  \n",
    "returns a list of all attributes and methods related to object"
   ]
  },
  {
   "cell_type": "code",
   "execution_count": 42,
   "metadata": {},
   "outputs": [
    {
     "data": {
      "text/plain": [
       "['__class__',\n",
       " '__delattr__',\n",
       " '__dict__',\n",
       " '__dir__',\n",
       " '__doc__',\n",
       " '__eq__',\n",
       " '__format__',\n",
       " '__ge__',\n",
       " '__getattribute__',\n",
       " '__getstate__',\n",
       " '__gt__',\n",
       " '__hash__',\n",
       " '__init__',\n",
       " '__init_subclass__',\n",
       " '__le__',\n",
       " '__lt__',\n",
       " '__module__',\n",
       " '__ne__',\n",
       " '__new__',\n",
       " '__reduce__',\n",
       " '__reduce_ex__',\n",
       " '__repr__',\n",
       " '__setattr__',\n",
       " '__sizeof__',\n",
       " '__str__',\n",
       " '__subclasshook__',\n",
       " '__weakref__',\n",
       " 'age',\n",
       " 'gender',\n",
       " 'name']"
      ]
     },
     "execution_count": 42,
     "metadata": {},
     "output_type": "execute_result"
    }
   ],
   "source": [
    "dir(Binaryxx)"
   ]
  }
 ],
 "metadata": {
  "kernelspec": {
   "display_name": "Python 3.11.0 64-bit",
   "language": "python",
   "name": "python3"
  },
  "language_info": {
   "codemirror_mode": {
    "name": "ipython",
    "version": 3
   },
   "file_extension": ".py",
   "mimetype": "text/x-python",
   "name": "python",
   "nbconvert_exporter": "python",
   "pygments_lexer": "ipython3",
   "version": "3.11.0"
  },
  "orig_nbformat": 4,
  "vscode": {
   "interpreter": {
    "hash": "1c840a969b159f73f4b9e73e40c60a0fd7d0b9ac506a50c2c7e455b8c693fb36"
   }
  }
 },
 "nbformat": 4,
 "nbformat_minor": 2
}
