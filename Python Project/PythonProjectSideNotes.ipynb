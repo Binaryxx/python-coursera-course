{
 "cells": [
  {
   "cell_type": "markdown",
   "metadata": {},
   "source": [
    "# Python Notes: Python Project Side Notes  \n",
    "<hr>"
   ]
  },
  {
   "cell_type": "markdown",
   "metadata": {},
   "source": [
    "### Library"
   ]
  },
  {
   "cell_type": "markdown",
   "metadata": {},
   "source": [
    "**_myDF_.reset_index(inplace = True)**  \n",
    "Resets the index to integers instead of an assigned column  \n",
    "> **inplace = True**  \n",
    "> changes the df itself rather than needing to reassign to a new variable / df  "
   ]
  },
  {
   "cell_type": "markdown",
   "metadata": {},
   "source": [
    "**import yfinance as yf**  \n",
    "a library that returns stock informationin a df  \n",
    "  \n",
    "**_myStock_ = yf.Ticker(\"_TCKR_\")**  \n",
    "creates a reference of the stock object  \n",
    "  \n",
    "**_myStockInfo_ = _myStock_.info**  \n",
    "stores a df of the stock's info in the object  \n",
    "> similar to other df, info corresponding to a column can be returned by calling on the df and column  \n",
    "> myDF[\"ColumnX\"]  \n",
    "  \n",
    "**_myStock_.history(period = _period_)**  \n",
    "returns the historical stock prices of the stock given a set period  \n",
    "> the df has an index based on the date; use the following code to reset the index:  \n",
    "> **_myStock_.reset_index(inplace = True)**  \n",
    "  \n",
    "> **IMPORTANT:** pandas 1.4 has an attributeError when using this method; downgrading to padas 1.3.5 seems to be the workaround for now  \n",
    "  \n",
    "**_myStock_.plot(x = \"Date\", y = \"Open\")**  \n",
    "plots in a line graph the opening price of the price by varying dates  \n",
    "  \n",
    "**_myStock_.dividends**  \n",
    "returns a df with the dividends' dates and divident amount  \n",
    "> this object can be plotted  \n",
    "> **_myStock_.dividends.plot()**  \n"
   ]
  },
  {
   "cell_type": "markdown",
   "metadata": {},
   "source": [
    "<hr>"
   ]
  },
  {
   "cell_type": "markdown",
   "metadata": {},
   "source": [
    "To downgrade versions for a certain python package, uninstall current package version first\n",
    "> **!pip uninstall _myPackage_**\n",
    ">  uninstalls package  \n",
    "\n",
    "**!pip install _myPackage_ == _version_**  \n",
    "To install a specific package version  \n",
    "  \n",
    "* Make sure to restart kernel to make sure the latest import is still not being used in case an earlier import with the latest version was done  \n"
   ]
  },
  {
   "cell_type": "markdown",
   "metadata": {},
   "source": [
    "<hr>\n",
    "<hr>"
   ]
  },
  {
   "cell_type": "markdown",
   "metadata": {},
   "source": [
    "### Step by Step Webscraping"
   ]
  },
  {
   "cell_type": "markdown",
   "metadata": {},
   "source": [
    "1. Obtain the info from the website;  \n",
    "> data = requests.get(\"URL\").text  \n",
    "  \n",
    "2. Parse the html into a BS object;  \n",
    "> soup = BeautifulSoup(data, \"html5lib OR html.parser\")  \n",
    ">> html5lib is the most lenient but also the slowest  \n",
    ">> html.parser not as lenient as html5lib but faster  \n",
    ">> default is lxml which is the fastest  \n",
    "  \n",
    "3. Create an empty df to populate;  \n",
    "> source_df = pd.DataFrame(columns = \"Column1, ..., Column N\" )  \n",
    "  \n",
    "4.  \n",
    "* In a case of the info being in a table, get the info from each cell of the table by going through each row and then each td;  \n",
    "> for table_row in soup.find_all(\"tr\"):  \n",
    "  \n",
    "    table_col = table_row.find_all(\"td\")  \n",
    "  \n",
    "    Column1 = table_col[0].text  \n",
    "    ...  \n",
    "    ColumnN = table_col[n].text  \n",
    "  \n",
    "    append.source_df(\"Column1\" : column1, ..., \"ColumnN\" : columnN, ignore_index = True)  \n",
    ">> Use .text.strip() as necessary to further reformat the info  \n",
    ">>> This method is useful to use specific table, using more filters with the *.find_all()* as needed  \n",
    "  \n",
    "* data_df = pd.read_html(\"URL\")  \n",
    "* data_df = pd.read html(str(soup))  \n",
    "> With the past 2 methods, the appropriate table would have to be referenced; if there is only one table, the following can be used:  \n",
    "> data_df = source_html[0]  \n",
    "  \n",
    "5. Glance over the df;  \n",
    "> data_df.head()  \n",
    "\n",
    "    "
   ]
  },
  {
   "cell_type": "markdown",
   "metadata": {},
   "source": [
    "<hr>  \n",
    "<hr>  \n",
    "<hr>  "
   ]
  },
  {
   "cell_type": "markdown",
   "metadata": {},
   "source": [
    "### Final"
   ]
  },
  {
   "cell_type": "markdown",
   "metadata": {},
   "source": [
    "**_myTable_ = _mySoup_.find(string = \"_keyword_\").find_parent(\"table\").tbody**  \n",
    "Finds an instance where the keyword appears as a content in the html, then finds the parent table, and then assigns it to a variable for reference  "
   ]
  },
  {
   "cell_type": "markdown",
   "metadata": {},
   "source": [
    "For cleaning up the formatting of data in columns:  \n",
    "**_myDF_[\"_ColumnN_\"] = _myDF_[\"ColumnN\"].str.replace(\"_characters to replace_\",\"_characters to replace with_\")**  \n",
    "replaces characters with another set of characters; commonly replaced with an empty string  \n",
    "  \n",
    "**_myDF_.dropna(inplace = True)**  \n",
    "removes a row if it has one at least one NULL value in any of the columns  \n",
    "  \n",
    "**_myDF_ = _myDF_[ _myDF_['ColumnN'] != \"\" ]**  \n",
    "reassigns the df with a new df that only populated with what returns as True with the condition set, which asks whether the cell does not have an empty string (are there values?)  "
   ]
  }
 ],
 "metadata": {
  "kernelspec": {
   "display_name": "Python 3.10.8 64-bit (microsoft store)",
   "language": "python",
   "name": "python3"
  },
  "language_info": {
   "name": "python",
   "version": "3.10.8"
  },
  "orig_nbformat": 4,
  "vscode": {
   "interpreter": {
    "hash": "aea6fe521a8d4c902ca730e502c1a2f7b75abf53da708eec9ae2a041880e07b3"
   }
  }
 },
 "nbformat": 4,
 "nbformat_minor": 2
}
