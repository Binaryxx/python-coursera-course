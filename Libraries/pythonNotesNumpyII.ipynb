{
 "cells": [
  {
   "cell_type": "markdown",
   "metadata": {},
   "source": [
    "# Python Notes: Numpy II\n",
    "<hr>"
   ]
  },
  {
   "cell_type": "markdown",
   "metadata": {},
   "source": [
    "Arrays can have multiple dimensions  \n",
    "> Simply cast a list with nested lists of equal elements per list into an array  \n",
    ">> Each nested list corresponds to a dimension in the array  \n",
    "  \n",
    "Dimensions relates to the depth of nested lists in the array, rather than the number of nested lists  \n",
    "> the number of nested lists determines the shape of the array  \n",
    "  \n",
    "REFRESHER: \n",
    "**_myArray_.ndim**  \n",
    "> returns the depth of the nesting  \n",
    "**_myArray_.shape**  \n",
    "> returns the number of rows (numbner of lists nested) [each list represents a row] then columns of the array (size of each nested list); (# of rows, # of columns)  \n",
    "**_myArray_.size**  \n",
    "> number of elements in the array = product of the shape  \n",
    "  \n",
    "* Slicing in arrays are end point exclusive (the ending index selected is not included in the slice)  "
   ]
  },
  {
   "cell_type": "markdown",
   "metadata": {},
   "source": [
    "<hr>  \n",
    "\n",
    "#### Operations"
   ]
  },
  {
   "cell_type": "markdown",
   "metadata": {},
   "source": [
    "**REMINDER:**  \n",
    "Don't forget to convert the lists into arrays when array operations is the goal"
   ]
  },
  {
   "cell_type": "markdown",
   "metadata": {},
   "source": [
    "Operations work similar as to when there is only one dimension where the operation is done to each array with the corresponding coordinates  \n",
    "> This applies to everything except Matrix Multiplication; Scalar and Hadamard Multiplications functions intuitively and similarly to 1D arrays  \n",
    ">> The shape and dimension of the matrices have to be the same for Hadamard Multiplication to work  \n",
    "  \n",
    "  \n",
    "Matrix Multiplication is different  \n",
    "> The number of columns in the first array has to equal the number of rows of the second array; the shape of the matrix multiplication is based on the row of the first array and columns of the second array; <br> (_PS: Matrices are read as [rows, columns]_)  \n",
    ">> M is an [x,y] matrix and N is a [y,z]; the resulting shape from a matrix multiplication is a [x,z] matrix  \n",
    ">>> MN multiplication matrix and NM multiplication matrix is not the same  \n",
    ">> Dot product of each combination is the resulting value for the coordinate    \n",
    ">>> <br>_Example:_ <br> array A has a shape of [2,3] and array B has a shape of [3,2]  \n",
    ">>> Dot product of array A row 1 by array B column 1 is done first;  \n",
    ">>> Then the dot product of array A row 1 by array B column 2  \n",
    ">>>> These 2 dot products will yield the product of positions [0,0] and [0,1] based on [a,b] (rows of a and columns of y); the product position is based on the dimensions used (in this case Row 1 and Column 1 and Row 1 and Column 2)  \n",
    "[x, y  \n",
    "?, ?]  \n",
    ">>>> Alternatively, this can be thought in reverse order; I want to know the matrix product for position, [1,0]; that means get the dot product of Row 2 (of a) Column 1 (of b), similar to just reading an array  \n",
    "  \n",
    "To do Matrix Multiplcation in Python Numpy, use Dot Product of 2 arrays\n",
    "\n"
   ]
  },
  {
   "cell_type": "code",
   "execution_count": null,
   "metadata": {},
   "outputs": [
    {
     "name": "stdout",
     "output_type": "stream",
     "text": [
      "Dot Product of M and N is: \n",
      " [[    9    19    26 11382   408]\n",
      " [   16    15    13 28247   669]\n",
      " [   30    33    33 50883  1269]]\n",
      "Hadamard Multiplication of a and b is: \n",
      " [[ 8 32]\n",
      " [ 3 54]]\n",
      "Scalar Multiplication fo a by 2 is: \n",
      " [[ 4  8]\n",
      " [ 6 12]]\n"
     ]
    }
   ],
   "source": [
    "import numpy as np\n",
    "\n",
    "# dot product of 2 arrays/ matrix multiplication\n",
    "# M is a [3,2] matrix; N is a [2,5]; MN is a \n",
    "M = np.array([[2,3],[5,1],[9,3]])\n",
    "N = np.array([[3,2,1,5643,123],[1,5,8,32,54]])\n",
    "\n",
    "MN = np.dot(M,N)\n",
    "\n",
    "print(\"Dot Product of M and N is: \\n\", MN)\n",
    "\n",
    "# hamard multiplication\n",
    "a = np.array([[2,4],[3,6]])\n",
    "b = np.array([[4,8],[1,9]])\n",
    "\n",
    "c = a*b\n",
    "print(\"Hadamard Multiplication of a and b is: \\n\", c)  \n",
    "\n",
    "# scalar multiplication\n",
    "d = a*2\n",
    "\n",
    "print(\"Scalar Multiplication fo a by 2 is: \\n\", d)"
   ]
  },
  {
   "cell_type": "code",
   "execution_count": 16,
   "metadata": {},
   "outputs": [
    {
     "name": "stdout",
     "output_type": "stream",
     "text": [
      "[[ 66  72  78]\n",
      " [156 171 186]]\n"
     ]
    }
   ],
   "source": [
    "arr1 = np.array([[1,2,3],[4,5,6]])\n",
    "arr2 = np.array([[7,8,9],[10,11,12],[13,14,15]])\n",
    "\n",
    "result = np.dot(arr1,arr2)\n",
    "print(result)"
   ]
  }
 ],
 "metadata": {
  "kernelspec": {
   "display_name": "Python 3.10.8 64-bit (microsoft store)",
   "language": "python",
   "name": "python3"
  },
  "language_info": {
   "codemirror_mode": {
    "name": "ipython",
    "version": 3
   },
   "file_extension": ".py",
   "mimetype": "text/x-python",
   "name": "python",
   "nbconvert_exporter": "python",
   "pygments_lexer": "ipython3",
   "version": "3.10.8"
  },
  "orig_nbformat": 4,
  "vscode": {
   "interpreter": {
    "hash": "aea6fe521a8d4c902ca730e502c1a2f7b75abf53da708eec9ae2a041880e07b3"
   }
  }
 },
 "nbformat": 4,
 "nbformat_minor": 2
}
