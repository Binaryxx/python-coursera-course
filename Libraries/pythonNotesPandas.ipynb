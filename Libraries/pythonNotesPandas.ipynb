{
 "cells": [
  {
   "cell_type": "markdown",
   "metadata": {},
   "source": [
    "# Python Notes: Pandas\n",
    "<hr>"
   ]
  },
  {
   "cell_type": "markdown",
   "metadata": {},
   "source": [
    "### Creating and Accessing Dataframes"
   ]
  },
  {
   "cell_type": "markdown",
   "metadata": {},
   "source": [
    "Libraries/Dependencies are pre-written code, including functions, classes, and objects  \n",
    "Pandas is for data analysis  \n",
    ">2 primary data structures to manipulate data: DataFrames and Series  \n",
    "  \n",
    "DataFrame is 2 dimensional, consisting of rows, columns and values  \n",
    "Series is 1 dimensional, consisting of the values and its index"
   ]
  },
  {
   "cell_type": "markdown",
   "metadata": {},
   "source": [
    "**import _myLibrary_ as _abbreviation_**  \n",
    "imports and renames the library when referencing  \n",
    "> pandas is commonly abbreviated to \"pd\" and numpy as \"??\"  "
   ]
  },
  {
   "cell_type": "code",
   "execution_count": 80,
   "metadata": {},
   "outputs": [],
   "source": [
    "import pandas as pd"
   ]
  },
  {
   "cell_type": "markdown",
   "metadata": {},
   "source": [
    "**_myPath_ = _myCSVPath_**  \n",
    "**_myDataFrame_ = pd.read_csv(_myPath_)**  \n",
    "> Converts CSV to Data Frame  \n",
    "  \n",
    "**_myPath_ = _myExcelPath_**  \n",
    "**_myDataFrame_ = pd.read_excel(_myPath_)**  \n",
    "> Converts Excel to Data Frame\n",
    "  \n",
    "**_myDateFrame_.head()**  \n",
    "> Returns first five rows of the CSV"
   ]
  },
  {
   "cell_type": "code",
   "execution_count": 81,
   "metadata": {},
   "outputs": [
    {
     "data": {
      "text/html": [
       "<div>\n",
       "<style scoped>\n",
       "    .dataframe tbody tr th:only-of-type {\n",
       "        vertical-align: middle;\n",
       "    }\n",
       "\n",
       "    .dataframe tbody tr th {\n",
       "        vertical-align: top;\n",
       "    }\n",
       "\n",
       "    .dataframe thead th {\n",
       "        text-align: right;\n",
       "    }\n",
       "</style>\n",
       "<table border=\"1\" class=\"dataframe\">\n",
       "  <thead>\n",
       "    <tr style=\"text-align: right;\">\n",
       "      <th></th>\n",
       "      <th>Date</th>\n",
       "      <th>Minutes Watched</th>\n",
       "      <th>Unique Viewers</th>\n",
       "      <th>Average Viewers</th>\n",
       "      <th>Follows</th>\n",
       "      <th>Chatters</th>\n",
       "      <th>Minutes Streamed</th>\n",
       "      <th>Live Views</th>\n",
       "      <th>Max Viewers</th>\n",
       "      <th>Hosts and Raids Viewers (%)</th>\n",
       "      <th>...</th>\n",
       "      <th>Clip Views</th>\n",
       "      <th>Prime Subs</th>\n",
       "      <th>Total Paid Subs</th>\n",
       "      <th>Tier 1 subs</th>\n",
       "      <th>Total Gifted Subs</th>\n",
       "      <th>Gifted Tier 1 subs</th>\n",
       "      <th>Total Multi-Month Gifted subs</th>\n",
       "      <th>Multi-Month Gifted Tier 1 subs</th>\n",
       "      <th>Multi-Month Gifted Tier 2 subs</th>\n",
       "      <th>Multi-Month Gifted Tier 3 subs</th>\n",
       "    </tr>\n",
       "  </thead>\n",
       "  <tbody>\n",
       "    <tr>\n",
       "      <th>0</th>\n",
       "      <td>Tue Nov 23 2021</td>\n",
       "      <td>86</td>\n",
       "      <td>2</td>\n",
       "      <td>0.92</td>\n",
       "      <td>0</td>\n",
       "      <td>1</td>\n",
       "      <td>93</td>\n",
       "      <td>2</td>\n",
       "      <td>1</td>\n",
       "      <td>0.0</td>\n",
       "      <td>...</td>\n",
       "      <td>0</td>\n",
       "      <td>0</td>\n",
       "      <td>0</td>\n",
       "      <td>0</td>\n",
       "      <td>0</td>\n",
       "      <td>0</td>\n",
       "      <td>0</td>\n",
       "      <td>0</td>\n",
       "      <td>0</td>\n",
       "      <td>0</td>\n",
       "    </tr>\n",
       "    <tr>\n",
       "      <th>1</th>\n",
       "      <td>Wed Nov 24 2021</td>\n",
       "      <td>24</td>\n",
       "      <td>1</td>\n",
       "      <td>1.33</td>\n",
       "      <td>0</td>\n",
       "      <td>0</td>\n",
       "      <td>18</td>\n",
       "      <td>3</td>\n",
       "      <td>3</td>\n",
       "      <td>0.0</td>\n",
       "      <td>...</td>\n",
       "      <td>0</td>\n",
       "      <td>0</td>\n",
       "      <td>0</td>\n",
       "      <td>0</td>\n",
       "      <td>0</td>\n",
       "      <td>0</td>\n",
       "      <td>0</td>\n",
       "      <td>0</td>\n",
       "      <td>0</td>\n",
       "      <td>0</td>\n",
       "    </tr>\n",
       "    <tr>\n",
       "      <th>2</th>\n",
       "      <td>Thu Nov 25 2021</td>\n",
       "      <td>0</td>\n",
       "      <td>0</td>\n",
       "      <td>0.00</td>\n",
       "      <td>0</td>\n",
       "      <td>0</td>\n",
       "      <td>0</td>\n",
       "      <td>0</td>\n",
       "      <td>0</td>\n",
       "      <td>0.0</td>\n",
       "      <td>...</td>\n",
       "      <td>0</td>\n",
       "      <td>0</td>\n",
       "      <td>0</td>\n",
       "      <td>0</td>\n",
       "      <td>0</td>\n",
       "      <td>0</td>\n",
       "      <td>0</td>\n",
       "      <td>0</td>\n",
       "      <td>0</td>\n",
       "      <td>0</td>\n",
       "    </tr>\n",
       "    <tr>\n",
       "      <th>3</th>\n",
       "      <td>Fri Nov 26 2021</td>\n",
       "      <td>0</td>\n",
       "      <td>0</td>\n",
       "      <td>0.00</td>\n",
       "      <td>0</td>\n",
       "      <td>0</td>\n",
       "      <td>0</td>\n",
       "      <td>0</td>\n",
       "      <td>0</td>\n",
       "      <td>0.0</td>\n",
       "      <td>...</td>\n",
       "      <td>0</td>\n",
       "      <td>0</td>\n",
       "      <td>0</td>\n",
       "      <td>0</td>\n",
       "      <td>0</td>\n",
       "      <td>0</td>\n",
       "      <td>0</td>\n",
       "      <td>0</td>\n",
       "      <td>0</td>\n",
       "      <td>0</td>\n",
       "    </tr>\n",
       "    <tr>\n",
       "      <th>4</th>\n",
       "      <td>Sat Nov 27 2021</td>\n",
       "      <td>0</td>\n",
       "      <td>0</td>\n",
       "      <td>0.00</td>\n",
       "      <td>0</td>\n",
       "      <td>0</td>\n",
       "      <td>0</td>\n",
       "      <td>0</td>\n",
       "      <td>0</td>\n",
       "      <td>0.0</td>\n",
       "      <td>...</td>\n",
       "      <td>0</td>\n",
       "      <td>0</td>\n",
       "      <td>0</td>\n",
       "      <td>0</td>\n",
       "      <td>0</td>\n",
       "      <td>0</td>\n",
       "      <td>0</td>\n",
       "      <td>0</td>\n",
       "      <td>0</td>\n",
       "      <td>0</td>\n",
       "    </tr>\n",
       "  </tbody>\n",
       "</table>\n",
       "<p>5 rows × 22 columns</p>\n",
       "</div>"
      ],
      "text/plain": [
       "              Date  Minutes Watched  Unique Viewers  Average Viewers  Follows  \\\n",
       "0  Tue Nov 23 2021               86               2             0.92        0   \n",
       "1  Wed Nov 24 2021               24               1             1.33        0   \n",
       "2  Thu Nov 25 2021                0               0             0.00        0   \n",
       "3  Fri Nov 26 2021                0               0             0.00        0   \n",
       "4  Sat Nov 27 2021                0               0             0.00        0   \n",
       "\n",
       "   Chatters  Minutes Streamed  Live Views  Max Viewers  \\\n",
       "0         1                93           2            1   \n",
       "1         0                18           3            3   \n",
       "2         0                 0           0            0   \n",
       "3         0                 0           0            0   \n",
       "4         0                 0           0            0   \n",
       "\n",
       "   Hosts and Raids Viewers (%)  ...  Clip Views  Prime Subs  Total Paid Subs  \\\n",
       "0                          0.0  ...           0           0                0   \n",
       "1                          0.0  ...           0           0                0   \n",
       "2                          0.0  ...           0           0                0   \n",
       "3                          0.0  ...           0           0                0   \n",
       "4                          0.0  ...           0           0                0   \n",
       "\n",
       "   Tier 1 subs  Total Gifted Subs  Gifted Tier 1 subs  \\\n",
       "0            0                  0                   0   \n",
       "1            0                  0                   0   \n",
       "2            0                  0                   0   \n",
       "3            0                  0                   0   \n",
       "4            0                  0                   0   \n",
       "\n",
       "   Total Multi-Month Gifted subs  Multi-Month Gifted Tier 1 subs  \\\n",
       "0                              0                               0   \n",
       "1                              0                               0   \n",
       "2                              0                               0   \n",
       "3                              0                               0   \n",
       "4                              0                               0   \n",
       "\n",
       "   Multi-Month Gifted Tier 2 subs  Multi-Month Gifted Tier 3 subs  \n",
       "0                               0                               0  \n",
       "1                               0                               0  \n",
       "2                               0                               0  \n",
       "3                               0                               0  \n",
       "4                               0                               0  \n",
       "\n",
       "[5 rows x 22 columns]"
      ]
     },
     "execution_count": 81,
     "metadata": {},
     "output_type": "execute_result"
    }
   ],
   "source": [
    "csvPath = \"C:\\\\Users\\\\Binaryxx Sune\\\\Desktop\\\\Personal Files\\\\Stream\\\\Viewer Engagement - Analytics by day from Nov_23_2021 to Nov_22_2022 - Copy.csv\"\n",
    "myDF = pd.read_csv(csvPath)\n",
    "\n",
    "myDF.head()"
   ]
  },
  {
   "cell_type": "markdown",
   "metadata": {},
   "source": [
    "Dataframes are comprised of rows and columns  \n",
    "> A df can be created by creating a dictionary  \n",
    ">> The Keys are the Columns; the Rows are Lists of Values  \n",
    "> A df can also be created by using 3 lists; the first one as nested lists with the values per row represented as the nested list, the second as the row labels, the third as column labels  \n",
    ">> this automatically sets the first column as the index column instead of having a numbered sequence index  \n",
    "  \n",
    "**_MyDF_ = pandas.DataFrame(_myDict_)**  \n",
    "To change (cast) the dictionary into a data frame  "
   ]
  },
  {
   "cell_type": "code",
   "execution_count": 99,
   "metadata": {},
   "outputs": [
    {
     "data": {
      "text/html": [
       "<div>\n",
       "<style scoped>\n",
       "    .dataframe tbody tr th:only-of-type {\n",
       "        vertical-align: middle;\n",
       "    }\n",
       "\n",
       "    .dataframe tbody tr th {\n",
       "        vertical-align: top;\n",
       "    }\n",
       "\n",
       "    .dataframe thead th {\n",
       "        text-align: right;\n",
       "    }\n",
       "</style>\n",
       "<table border=\"1\" class=\"dataframe\">\n",
       "  <thead>\n",
       "    <tr style=\"text-align: right;\">\n",
       "      <th></th>\n",
       "      <th>x</th>\n",
       "      <th>y</th>\n",
       "      <th>z</th>\n",
       "    </tr>\n",
       "  </thead>\n",
       "  <tbody>\n",
       "    <tr>\n",
       "      <th>a</th>\n",
       "      <td>11</td>\n",
       "      <td>12</td>\n",
       "      <td>13</td>\n",
       "    </tr>\n",
       "    <tr>\n",
       "      <th>b</th>\n",
       "      <td>21</td>\n",
       "      <td>22</td>\n",
       "      <td>23</td>\n",
       "    </tr>\n",
       "    <tr>\n",
       "      <th>c</th>\n",
       "      <td>31</td>\n",
       "      <td>32</td>\n",
       "      <td>33</td>\n",
       "    </tr>\n",
       "  </tbody>\n",
       "</table>\n",
       "</div>"
      ],
      "text/plain": [
       "    x   y   z\n",
       "a  11  12  13\n",
       "b  21  22  23\n",
       "c  31  32  33"
      ]
     },
     "execution_count": 99,
     "metadata": {},
     "output_type": "execute_result"
    }
   ],
   "source": [
    "dataList = [[11,12,13], [21,22,23], [31,32,33]]\n",
    "rowList = [\"a\",\"b\",\"c\"]\n",
    "columnList = [\"x\",\"y\",\"z\"]\n",
    "\n",
    "myDF2 = pd.DataFrame(dataList,rowList,columnList)\n",
    "\n",
    "myDF2"
   ]
  },
  {
   "cell_type": "code",
   "execution_count": 82,
   "metadata": {},
   "outputs": [
    {
     "data": {
      "text/html": [
       "<div>\n",
       "<style scoped>\n",
       "    .dataframe tbody tr th:only-of-type {\n",
       "        vertical-align: middle;\n",
       "    }\n",
       "\n",
       "    .dataframe tbody tr th {\n",
       "        vertical-align: top;\n",
       "    }\n",
       "\n",
       "    .dataframe thead th {\n",
       "        text-align: right;\n",
       "    }\n",
       "</style>\n",
       "<table border=\"1\" class=\"dataframe\">\n",
       "  <thead>\n",
       "    <tr style=\"text-align: right;\">\n",
       "      <th></th>\n",
       "      <th>Column1</th>\n",
       "      <th>Column2</th>\n",
       "      <th>Column3</th>\n",
       "    </tr>\n",
       "  </thead>\n",
       "  <tbody>\n",
       "    <tr>\n",
       "      <th>0</th>\n",
       "      <td>Row11</td>\n",
       "      <td>Row21</td>\n",
       "      <td>Row31</td>\n",
       "    </tr>\n",
       "    <tr>\n",
       "      <th>1</th>\n",
       "      <td>Row12</td>\n",
       "      <td>Row22</td>\n",
       "      <td>Row32</td>\n",
       "    </tr>\n",
       "    <tr>\n",
       "      <th>2</th>\n",
       "      <td>Row13</td>\n",
       "      <td>Row23</td>\n",
       "      <td>Row33</td>\n",
       "    </tr>\n",
       "    <tr>\n",
       "      <th>3</th>\n",
       "      <td>Row13</td>\n",
       "      <td>Row23</td>\n",
       "      <td>Row33</td>\n",
       "    </tr>\n",
       "  </tbody>\n",
       "</table>\n",
       "</div>"
      ],
      "text/plain": [
       "  Column1 Column2 Column3\n",
       "0   Row11   Row21   Row31\n",
       "1   Row12   Row22   Row32\n",
       "2   Row13   Row23   Row33\n",
       "3   Row13   Row23   Row33"
      ]
     },
     "execution_count": 82,
     "metadata": {},
     "output_type": "execute_result"
    }
   ],
   "source": [
    "myDict = {\"Column1\": [\"Row11\",\"Row12\",\"Row13\",\"Row13\"],\"Column2\":[\"Row21\",\"Row22\",\"Row23\",\"Row23\"], \"Column3\":[\"Row31\",\"Row32\",\"Row33\",\"Row33\"]}\n",
    "\n",
    "myDF = pd.DataFrame(myDict)\n",
    "myDF.head()"
   ]
  },
  {
   "cell_type": "markdown",
   "metadata": {},
   "source": [
    "**_newDF_ = _myDF_[[\"Column1\", ..., \"ColumnN\"]]**  \n",
    "To create a df consisting of N columns  \n",
    "> Using only one set of brackets returns a series, which will only take one column"
   ]
  },
  {
   "cell_type": "code",
   "execution_count": 83,
   "metadata": {},
   "outputs": [
    {
     "data": {
      "text/html": [
       "<div>\n",
       "<style scoped>\n",
       "    .dataframe tbody tr th:only-of-type {\n",
       "        vertical-align: middle;\n",
       "    }\n",
       "\n",
       "    .dataframe tbody tr th {\n",
       "        vertical-align: top;\n",
       "    }\n",
       "\n",
       "    .dataframe thead th {\n",
       "        text-align: right;\n",
       "    }\n",
       "</style>\n",
       "<table border=\"1\" class=\"dataframe\">\n",
       "  <thead>\n",
       "    <tr style=\"text-align: right;\">\n",
       "      <th></th>\n",
       "      <th>Column1</th>\n",
       "      <th>Column3</th>\n",
       "    </tr>\n",
       "  </thead>\n",
       "  <tbody>\n",
       "    <tr>\n",
       "      <th>0</th>\n",
       "      <td>Row11</td>\n",
       "      <td>Row31</td>\n",
       "    </tr>\n",
       "    <tr>\n",
       "      <th>1</th>\n",
       "      <td>Row12</td>\n",
       "      <td>Row32</td>\n",
       "    </tr>\n",
       "    <tr>\n",
       "      <th>2</th>\n",
       "      <td>Row13</td>\n",
       "      <td>Row33</td>\n",
       "    </tr>\n",
       "    <tr>\n",
       "      <th>3</th>\n",
       "      <td>Row13</td>\n",
       "      <td>Row33</td>\n",
       "    </tr>\n",
       "  </tbody>\n",
       "</table>\n",
       "</div>"
      ],
      "text/plain": [
       "  Column1 Column3\n",
       "0   Row11   Row31\n",
       "1   Row12   Row32\n",
       "2   Row13   Row33\n",
       "3   Row13   Row33"
      ]
     },
     "execution_count": 83,
     "metadata": {},
     "output_type": "execute_result"
    }
   ],
   "source": [
    "newDF = myDF[[\"Column1\",\"Column3\"]]\n",
    "newDF.head()"
   ]
  },
  {
   "cell_type": "markdown",
   "metadata": {},
   "source": [
    "<hr>"
   ]
  },
  {
   "cell_type": "markdown",
   "metadata": {},
   "source": [
    "### Working with and Saving Data"
   ]
  },
  {
   "cell_type": "markdown",
   "metadata": {},
   "source": [
    "**_myDF_[\"_Column1_\"].unique()**  \n",
    "returns the unique elements in the column  \n",
    "  \n",
    "**_df_[\"_Column1_\"]_logic operator and condition_**  \n",
    "returns a series of boolean values, indicating whether each row is True or False to the condition set  \n",
    "  \n",
    "**_df1_ = _df_[ [_df_[\"_Column1_\"]_logic operator and condition_]**  \n",
    "creates a new dataframe consisting of all rows returning True in \n",
    "  \n"
   ]
  },
  {
   "cell_type": "code",
   "execution_count": 84,
   "metadata": {},
   "outputs": [
    {
     "data": {
      "text/plain": [
       "array(['Row11', 'Row12', 'Row13'], dtype=object)"
      ]
     },
     "execution_count": 84,
     "metadata": {},
     "output_type": "execute_result"
    }
   ],
   "source": [
    "newDF[\"Column1\"].unique()"
   ]
  },
  {
   "cell_type": "code",
   "execution_count": 85,
   "metadata": {},
   "outputs": [
    {
     "data": {
      "text/plain": [
       "0    False\n",
       "1     True\n",
       "2    False\n",
       "3    False\n",
       "Name: Column1, dtype: bool"
      ]
     },
     "execution_count": 85,
     "metadata": {},
     "output_type": "execute_result"
    }
   ],
   "source": [
    "newDF[\"Column1\"] == \"Row12\""
   ]
  },
  {
   "cell_type": "code",
   "execution_count": 86,
   "metadata": {},
   "outputs": [
    {
     "data": {
      "text/html": [
       "<div>\n",
       "<style scoped>\n",
       "    .dataframe tbody tr th:only-of-type {\n",
       "        vertical-align: middle;\n",
       "    }\n",
       "\n",
       "    .dataframe tbody tr th {\n",
       "        vertical-align: top;\n",
       "    }\n",
       "\n",
       "    .dataframe thead th {\n",
       "        text-align: right;\n",
       "    }\n",
       "</style>\n",
       "<table border=\"1\" class=\"dataframe\">\n",
       "  <thead>\n",
       "    <tr style=\"text-align: right;\">\n",
       "      <th></th>\n",
       "      <th>Column1</th>\n",
       "      <th>Column3</th>\n",
       "    </tr>\n",
       "  </thead>\n",
       "  <tbody>\n",
       "    <tr>\n",
       "      <th>1</th>\n",
       "      <td>Row12</td>\n",
       "      <td>Row32</td>\n",
       "    </tr>\n",
       "  </tbody>\n",
       "</table>\n",
       "</div>"
      ],
      "text/plain": [
       "  Column1 Column3\n",
       "1   Row12   Row32"
      ]
     },
     "execution_count": 86,
     "metadata": {},
     "output_type": "execute_result"
    }
   ],
   "source": [
    "df1 = newDF [ newDF[\"Column1\"] == \"Row12\"  ]\n",
    "df1.head()\n",
    "\n",
    "# returns the row that matches, including other columns"
   ]
  },
  {
   "cell_type": "markdown",
   "metadata": {},
   "source": [
    "**_myDF_.loc[_row label/index_,_column label_]**  \n",
    "returns the value given the row label and column label  \n",
    ">> when using slicing, even when using integer index for dataframes where the index is not set, the second value of the range is inclusive  \n",
    ">>> when slicing, both the rows and columns have to be a sliced range  \n",
    "  \n",
    "**_myDF_.iloc[_row index_,_column index_]**  \n",
    "returns the value given the row index and column index  \n",
    "> for the row name, an index has to be set to refer to it by name  \n",
    ">> when using slicing, the second value of the range is exclusive    \n",
    ">>> when slicing, both the rows and columns have to be a sliced range\n",
    "\n",
    "**_myDF_.set_index(_column to make an index_)**  \n",
    "returns a dataframe with the selected column as the index, meaning that the values of that column can be used to refer to the rows (act as the index that was previously the sequenced numbers)  \n",
    "> needs to reassign to another variable to save the indexed dataframe  \n",
    ">> when creating a new column to be set as an index, the following can be used:  \n",
    "**_myDF_.index = _myIndexList_**  \n",
    "  \n",
    "**_myDF_[\"_new column name_\"] = myList**  \n",
    "creates a new column with rows based on the list given"
   ]
  },
  {
   "cell_type": "code",
   "execution_count": 87,
   "metadata": {},
   "outputs": [
    {
     "data": {
      "text/html": [
       "<div>\n",
       "<style scoped>\n",
       "    .dataframe tbody tr th:only-of-type {\n",
       "        vertical-align: middle;\n",
       "    }\n",
       "\n",
       "    .dataframe tbody tr th {\n",
       "        vertical-align: top;\n",
       "    }\n",
       "\n",
       "    .dataframe thead th {\n",
       "        text-align: right;\n",
       "    }\n",
       "</style>\n",
       "<table border=\"1\" class=\"dataframe\">\n",
       "  <thead>\n",
       "    <tr style=\"text-align: right;\">\n",
       "      <th></th>\n",
       "      <th>Column1</th>\n",
       "      <th>Column2</th>\n",
       "      <th>Column3</th>\n",
       "    </tr>\n",
       "  </thead>\n",
       "  <tbody>\n",
       "    <tr>\n",
       "      <th>0</th>\n",
       "      <td>Row11</td>\n",
       "      <td>Row21</td>\n",
       "      <td>Row31</td>\n",
       "    </tr>\n",
       "    <tr>\n",
       "      <th>1</th>\n",
       "      <td>Row12</td>\n",
       "      <td>Row22</td>\n",
       "      <td>Row32</td>\n",
       "    </tr>\n",
       "    <tr>\n",
       "      <th>2</th>\n",
       "      <td>Row13</td>\n",
       "      <td>Row23</td>\n",
       "      <td>Row33</td>\n",
       "    </tr>\n",
       "    <tr>\n",
       "      <th>3</th>\n",
       "      <td>Row13</td>\n",
       "      <td>Row23</td>\n",
       "      <td>Row33</td>\n",
       "    </tr>\n",
       "  </tbody>\n",
       "</table>\n",
       "</div>"
      ],
      "text/plain": [
       "  Column1 Column2 Column3\n",
       "0   Row11   Row21   Row31\n",
       "1   Row12   Row22   Row32\n",
       "2   Row13   Row23   Row33\n",
       "3   Row13   Row23   Row33"
      ]
     },
     "execution_count": 87,
     "metadata": {},
     "output_type": "execute_result"
    }
   ],
   "source": [
    "myDF.head()"
   ]
  },
  {
   "cell_type": "code",
   "execution_count": 88,
   "metadata": {},
   "outputs": [
    {
     "data": {
      "text/plain": [
       "'Row22'"
      ]
     },
     "execution_count": 88,
     "metadata": {},
     "output_type": "execute_result"
    }
   ],
   "source": [
    "myDF.iloc[1,1]"
   ]
  },
  {
   "cell_type": "code",
   "execution_count": 89,
   "metadata": {},
   "outputs": [
    {
     "data": {
      "text/html": [
       "<div>\n",
       "<style scoped>\n",
       "    .dataframe tbody tr th:only-of-type {\n",
       "        vertical-align: middle;\n",
       "    }\n",
       "\n",
       "    .dataframe tbody tr th {\n",
       "        vertical-align: top;\n",
       "    }\n",
       "\n",
       "    .dataframe thead th {\n",
       "        text-align: right;\n",
       "    }\n",
       "</style>\n",
       "<table border=\"1\" class=\"dataframe\">\n",
       "  <thead>\n",
       "    <tr style=\"text-align: right;\">\n",
       "      <th></th>\n",
       "      <th>Column1</th>\n",
       "      <th>Column2</th>\n",
       "      <th>Column3</th>\n",
       "    </tr>\n",
       "    <tr>\n",
       "      <th>Index</th>\n",
       "      <th></th>\n",
       "      <th></th>\n",
       "      <th></th>\n",
       "    </tr>\n",
       "  </thead>\n",
       "  <tbody>\n",
       "    <tr>\n",
       "      <th>apple</th>\n",
       "      <td>Row11</td>\n",
       "      <td>Row21</td>\n",
       "      <td>Row31</td>\n",
       "    </tr>\n",
       "    <tr>\n",
       "      <th>banana</th>\n",
       "      <td>Row12</td>\n",
       "      <td>Row22</td>\n",
       "      <td>Row32</td>\n",
       "    </tr>\n",
       "    <tr>\n",
       "      <th>coconut</th>\n",
       "      <td>Row13</td>\n",
       "      <td>Row23</td>\n",
       "      <td>Row33</td>\n",
       "    </tr>\n",
       "    <tr>\n",
       "      <th>dragonfruit</th>\n",
       "      <td>Row13</td>\n",
       "      <td>Row23</td>\n",
       "      <td>Row33</td>\n",
       "    </tr>\n",
       "  </tbody>\n",
       "</table>\n",
       "</div>"
      ],
      "text/plain": [
       "            Column1 Column2 Column3\n",
       "Index                              \n",
       "apple         Row11   Row21   Row31\n",
       "banana        Row12   Row22   Row32\n",
       "coconut       Row13   Row23   Row33\n",
       "dragonfruit   Row13   Row23   Row33"
      ]
     },
     "execution_count": 89,
     "metadata": {},
     "output_type": "execute_result"
    }
   ],
   "source": [
    "indexedDF = myDF\n",
    "\n",
    "indexList = [\"apple\",\"banana\",\"coconut\",\"dragonfruit\"]\n",
    "indexList2 = [\"a\",\"b\",\"c\",\"d\"]\n",
    "indexedDF[\"Index\"] = indexList\n",
    "\n",
    "indexedDF = indexedDF.set_index(\"Index\")\n",
    "\n",
    "\n",
    "#alternatively:\n",
    "#indexedDF.index = indexList2\n",
    "\n",
    "\n",
    "indexedDF.head()"
   ]
  },
  {
   "cell_type": "code",
   "execution_count": 90,
   "metadata": {},
   "outputs": [
    {
     "data": {
      "text/plain": [
       "'Row22'"
      ]
     },
     "execution_count": 90,
     "metadata": {},
     "output_type": "execute_result"
    }
   ],
   "source": [
    "indexedDF.loc[\"banana\",\"Column2\"]"
   ]
  },
  {
   "cell_type": "code",
   "execution_count": 91,
   "metadata": {},
   "outputs": [
    {
     "data": {
      "text/html": [
       "<div>\n",
       "<style scoped>\n",
       "    .dataframe tbody tr th:only-of-type {\n",
       "        vertical-align: middle;\n",
       "    }\n",
       "\n",
       "    .dataframe tbody tr th {\n",
       "        vertical-align: top;\n",
       "    }\n",
       "\n",
       "    .dataframe thead th {\n",
       "        text-align: right;\n",
       "    }\n",
       "</style>\n",
       "<table border=\"1\" class=\"dataframe\">\n",
       "  <thead>\n",
       "    <tr style=\"text-align: right;\">\n",
       "      <th></th>\n",
       "      <th>Column1</th>\n",
       "      <th>Column2</th>\n",
       "    </tr>\n",
       "  </thead>\n",
       "  <tbody>\n",
       "    <tr>\n",
       "      <th>0</th>\n",
       "      <td>Row11</td>\n",
       "      <td>Row21</td>\n",
       "    </tr>\n",
       "    <tr>\n",
       "      <th>1</th>\n",
       "      <td>Row12</td>\n",
       "      <td>Row22</td>\n",
       "    </tr>\n",
       "    <tr>\n",
       "      <th>2</th>\n",
       "      <td>Row13</td>\n",
       "      <td>Row23</td>\n",
       "    </tr>\n",
       "  </tbody>\n",
       "</table>\n",
       "</div>"
      ],
      "text/plain": [
       "  Column1 Column2\n",
       "0   Row11   Row21\n",
       "1   Row12   Row22\n",
       "2   Row13   Row23"
      ]
     },
     "execution_count": 91,
     "metadata": {},
     "output_type": "execute_result"
    }
   ],
   "source": [
    "#indexedDF.loc[\"apple\":\"coconut\",\"Column1\":\"Column2\"]\n",
    "\n",
    "#when the index is not set\n",
    "myDF.loc[0:2,\"Column1\":\"Column2\"]"
   ]
  },
  {
   "cell_type": "markdown",
   "metadata": {},
   "source": [
    "  **_df1_.to_csv(\"_newFileName_\")**  \n",
    "Saves dataframe as a csv  "
   ]
  },
  {
   "cell_type": "code",
   "execution_count": 92,
   "metadata": {},
   "outputs": [],
   "source": [
    "df1.to_csv(\"TestCSV\")"
   ]
  }
 ],
 "metadata": {
  "kernelspec": {
   "display_name": "Python 3.10.8 64-bit (microsoft store)",
   "language": "python",
   "name": "python3"
  },
  "language_info": {
   "codemirror_mode": {
    "name": "ipython",
    "version": 3
   },
   "file_extension": ".py",
   "mimetype": "text/x-python",
   "name": "python",
   "nbconvert_exporter": "python",
   "pygments_lexer": "ipython3",
   "version": "3.10.8"
  },
  "orig_nbformat": 4,
  "vscode": {
   "interpreter": {
    "hash": "aea6fe521a8d4c902ca730e502c1a2f7b75abf53da708eec9ae2a041880e07b3"
   }
  }
 },
 "nbformat": 4,
 "nbformat_minor": 2
}
