{
 "cells": [
  {
   "cell_type": "markdown",
   "metadata": {},
   "source": [
    "# Python Notes: Numpy I\n",
    "<hr>"
   ]
  },
  {
   "cell_type": "markdown",
   "metadata": {},
   "source": [
    "Numpy is for scientific computing and the basis for the Pandas module    \n",
    "Numpy Arrays are similar to lists but fixed in sized and all contain one type of element"
   ]
  },
  {
   "cell_type": "markdown",
   "metadata": {},
   "source": [
    "**import numpy as np**  \n",
    "Import numpy and rename  \n",
    "  \n",
    "**_myArray_ = np.array(_myList_)**  \n",
    "casts a list into an array  \n",
    "  \n",
    "**_myArray_.dtype**  \n",
    "returns the data type of the element within the ndarray  \n",
    "> the data type of the numpy array is called an nd array  \n",
    "  \n",
    "  **_myArray_.size**  \n",
    "  returns the number of elements in the array  \n",
    "    \n",
    "**_myArray_.ndim**  \n",
    "returns the number of dimensions or rank of the array  \n",
    "  \n",
    "**_myArray_.shape**  \n",
    "returns a tuple which specify the size of the array in each dimension  "
   ]
  },
  {
   "cell_type": "code",
   "execution_count": 1,
   "metadata": {},
   "outputs": [
    {
     "name": "stdout",
     "output_type": "stream",
     "text": [
      "D Type is  int32\n",
      "Size is  5\n",
      "# of Dimensions are  1\n",
      "Shape of array is  (5,)\n"
     ]
    }
   ],
   "source": [
    "import numpy as np\n",
    "\n",
    "myList = [1,2,3,4,5]\n",
    "a = np.array(myList)\n",
    "\n",
    "print(\"D Type is \",  a.dtype  )\n",
    "print(\"Size is \",  a.size  )\n",
    "print(\"# of Dimensions are \",  a.ndim  )\n",
    "print(\"Shape of array is \",  a.shape  )"
   ]
  },
  {
   "cell_type": "markdown",
   "metadata": {},
   "source": [
    "**_myArray_[n] = _new value_**  \n",
    "accesses the array and replaces it with the new value  \n",
    "> Has to be same the type as the rest  \n",
    "  \n",
    "**_myArray_[x:y:z] = _new value1_, ..., _newvalueN_**  \n",
    "Arrays can be sliced similar to lists; can now reassign a group of elements using slice    \n",
    "> the ending point for the index is non inclusive; the value is the first index to not include in the split  \n",
    "  \n",
    "**_myArray[myIndexList]_ = _value elements with indices in myIndexList_**  \n",
    "List of integers can be used to replace multiple indices with one value or with multiple values  \n"
   ]
  },
  {
   "cell_type": "code",
   "execution_count": 5,
   "metadata": {},
   "outputs": [
    {
     "name": "stdout",
     "output_type": "stream",
     "text": [
      "[1 2 3 4 5]\n",
      "[ 1 -3 -2 -1  5]\n",
      "[-100   -3 -100   -1 -100]\n",
      "[300  -3 100  -1   0]\n"
     ]
    }
   ],
   "source": [
    "myList = [1,2,3,4,5]\n",
    "a = np.array(myList)\n",
    "print(a)\n",
    "\n",
    "a[1:4] = -3,-2,-1\n",
    "print(a)\n",
    "\n",
    "myIndices = [0,2,4]\n",
    "a[myIndices] = -100\n",
    "print(a)\n",
    "\n",
    "myValues = [300,100,0]\n",
    "a[myIndices] = myValues\n",
    "print(a)"
   ]
  },
  {
   "cell_type": "markdown",
   "metadata": {},
   "source": [
    "### Basic Operations"
   ]
  },
  {
   "cell_type": "markdown",
   "metadata": {},
   "source": [
    "##### Vector Operations"
   ]
  },
  {
   "cell_type": "markdown",
   "metadata": {},
   "source": [
    "These operations are much faster and memory efficient with numpy than vanilla python, which would require loops  \n",
    "  \n",
    "**_a_ = _b_ +/- _c_**  \n",
    "array _b_ and _c_ has to be both arrays  \n",
    "> the operation is done on each element of the corresponing indices of both arrays  \n",
    ">> another way to write the code is: **_a_ = np.add(_a_,_b_)** or **_a_ = np.divide(_a_,_b_)** or **_a_ = np.subtract(_a_,_b_)**  "
   ]
  },
  {
   "cell_type": "code",
   "execution_count": 7,
   "metadata": {},
   "outputs": [
    {
     "name": "stdout",
     "output_type": "stream",
     "text": [
      "[2 4 6]\n",
      "[0 0 0]\n",
      "[1. 1. 1.]\n"
     ]
    }
   ],
   "source": [
    "a = np.array([1,2,3])\n",
    "b = np.array([1,2,3])\n",
    "\n",
    "c = a+b\n",
    "d = a-b\n",
    "e = a/b\n",
    "\n",
    "print(c)\n",
    "print(d)\n",
    "print(e)"
   ]
  },
  {
   "cell_type": "markdown",
   "metadata": {},
   "source": [
    "**_a_ = _n_ + _b_**  \n",
    "adds the constant to all elements in array _b_  \n",
    "> n is a constant  \n",
    ">> otherwise known as broadcasting  \n",
    "\n"
   ]
  },
  {
   "cell_type": "code",
   "execution_count": 7,
   "metadata": {},
   "outputs": [
    {
     "data": {
      "text/plain": [
       "array([2, 3, 4])"
      ]
     },
     "execution_count": 7,
     "metadata": {},
     "output_type": "execute_result"
    }
   ],
   "source": [
    "c = 1 + b\n",
    "c"
   ]
  },
  {
   "cell_type": "markdown",
   "metadata": {},
   "source": [
    "##### Multiplication  "
   ]
  },
  {
   "cell_type": "markdown",
   "metadata": {},
   "source": [
    "**_a_ = _n_ _b_**  \n",
    "Scalar multiplication involves multiplying all elements by the one mutiplier  \n",
    "> n being a constant  \n",
    "  \n",
    "**_a_ = _b_ \\* _c_**\n",
    "Hadamard product involves multiplying each \n",
    "> works similar to vector operations but with multiplication  \n",
    "  \n",
    "**_a_ = np.dot(_b_,_c_)**  \n",
    "Dot product represents how similar two vectors are  \n",
    "> it is similar to Hadamard product but adds the products of the resulting elements in the array  \n",
    ">> arrays with a dot product of zero indicate that the vectors are perpendicular to each other  \n"
   ]
  },
  {
   "cell_type": "code",
   "execution_count": 9,
   "metadata": {},
   "outputs": [
    {
     "name": "stdout",
     "output_type": "stream",
     "text": [
      "[2 4 6]\n",
      "[1 4 9]\n",
      "14\n"
     ]
    }
   ],
   "source": [
    "a = np.array([1,2,3])\n",
    "b = np.array([1,2,3])\n",
    "\n",
    "x = 2*b\n",
    "print(x)\n",
    "\n",
    "y = a*b\n",
    "print(y)\n",
    "\n",
    "z = np.dot(a,b)\n",
    "print(z)"
   ]
  },
  {
   "cell_type": "markdown",
   "metadata": {},
   "source": [
    "<hr>"
   ]
  },
  {
   "cell_type": "markdown",
   "metadata": {},
   "source": [
    "### Universal Functions\n"
   ]
  },
  {
   "cell_type": "markdown",
   "metadata": {},
   "source": [
    "Universal functions are functions that work on nd arrays\n",
    "  \n",
    "**_result_ = _myArray_.mean()**  \n",
    "returns the mean of the elements  \n",
    "  \n",
    "**_result_ = _myArray_.max()**  \n",
    "returns the highest number in the array  \n",
    "  \n",
    "**_result_ = _myArray_.min()**  \n",
    "returns the lowest number in the array  \n",
    "  \n",
    "**_result_ = _myArray_.std()**  \n",
    "returns the standard deviation of the elements  \n",
    "  \n",
    "**np.linspace(_starting point_, _ending point_, num=_number of samples to generate_)**  \n",
    "returns an array of evenly spaced numbers from the starting point to the end point over num times  \n",
    "> the ending point is inclusive  \n",
    "\n"
   ]
  },
  {
   "cell_type": "code",
   "execution_count": 6,
   "metadata": {},
   "outputs": [
    {
     "name": "stdout",
     "output_type": "stream",
     "text": [
      "The mean is  2.0\n",
      "The max is  3\n",
      "The min is  1\n",
      "The min is  0.816496580927726\n",
      "The numbers to plot a x axis starting from 0 to 10 with 5 numbers to do so is [ 0.   2.5  5.   7.5 10. ]\n"
     ]
    }
   ],
   "source": [
    "a = np.array([1,2,3])\n",
    "b = np.array([1,2,3])\n",
    "\n",
    "print(\"The mean is \",   a.mean()  )\n",
    "print(\"The max is \",   a.max()  )\n",
    "print(\"The min is \",   a.min()  )\n",
    "print(\"The min is \",   a.std()  )\n",
    "print(\"The numbers to plot a x axis starting from 0 to 10 with 5 numbers to do so is\", np.linspace(0,10,num=5))"
   ]
  }
 ],
 "metadata": {
  "kernelspec": {
   "display_name": "Python 3.10.8 64-bit (microsoft store)",
   "language": "python",
   "name": "python3"
  },
  "language_info": {
   "codemirror_mode": {
    "name": "ipython",
    "version": 3
   },
   "file_extension": ".py",
   "mimetype": "text/x-python",
   "name": "python",
   "nbconvert_exporter": "python",
   "pygments_lexer": "ipython3",
   "version": "3.10.8"
  },
  "orig_nbformat": 4,
  "vscode": {
   "interpreter": {
    "hash": "aea6fe521a8d4c902ca730e502c1a2f7b75abf53da708eec9ae2a041880e07b3"
   }
  }
 },
 "nbformat": 4,
 "nbformat_minor": 2
}
